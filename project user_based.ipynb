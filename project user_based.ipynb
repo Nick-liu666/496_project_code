{
 "cells": [
  {
   "cell_type": "markdown",
   "metadata": {},
   "source": [
    "## ENSE 496 AD and AC project - Recommendation System with using User based Collaborative Filtering Algorithm\n",
    "\n",
    "In this project:"
   ]
  },
  {
   "cell_type": "code",
   "execution_count": 70,
   "metadata": {},
   "outputs": [],
   "source": [
    "#Import \n",
    "import numpy as np\n",
    "import math\n",
    "import pandas as pd\n"
   ]
  },
  {
   "source": [
    "# Function that calculate simlary by Cosine Similarity between two users\n",
    "def simlaryCosDist(user1, user2):\n",
    "    xSum = 0\n",
    "    ySum = 0\n",
    "    xySum = 0\n",
    "    for rate1 in user1:\n",
    "        for rate2 in user2:\n",
    "            if rate1[0] == rate2[0]:\n",
    "                xySum += rate1[1] * rate2[1]\n",
    "                ySum += rate2[1] ** 2\n",
    "                xSum += rate1[1] ** 2\n",
    "    if xySum == 0: return 0\n",
    "    return xySum / ((ySum * xSum) ** 0.5)\n"
   ],
   "cell_type": "code",
   "metadata": {},
   "execution_count": 87,
   "outputs": []
  },
  {
   "cell_type": "code",
   "execution_count": 45,
   "metadata": {},
   "outputs": [],
   "source": [
    "# generate user dictory\n",
    "def genUserDic(datas):\n",
    "    userRating = {}\n",
    "    itemUser = {}\n",
    "    for row in datas:\n",
    "        rating = (row[1],row[2])\n",
    "        if row[0] in userRating: userRating[row[0]].append(rating)\n",
    "        else: userRating[row[0]] = [rating]\n",
    "\n",
    "        if row[1] in itemUser: itemUser[row[1]].append(row[0])\n",
    "        else: itemUser[row[1]] = [row[0]]\n",
    "\n",
    "    return userRating, itemUser"
   ]
  },
  {
   "cell_type": "code",
   "execution_count": 46,
   "metadata": {},
   "outputs": [],
   "source": [
    "# Get the near neighbors \n",
    "def getNearNeighbors(userId, userDic, itemDic):\n",
    "    neighborsList = []\n",
    "    #print(userDic)\n",
    "    #print(userId)\n",
    "    #print(userDic[userId])\n",
    "    \n",
    "    for ratings in userDic[userId]:\n",
    "        for neighbor in itemDic[ratings[0]]:\n",
    "            if neighbor != userId and neighbor not in neighborsList:\n",
    "                neighborsList.append(neighbor)\n",
    "    \n",
    "    neighborsSimilary = []\n",
    "    for neighbor in neighborsList:\n",
    "        similary = simlaryCosDist(userDic[userId], userDic[neighbor])\n",
    "        neighborsSimilary.append([similary, neighbor])\n",
    "    neighborsSimilary.sort(reverse = True)\n",
    "    return neighborsSimilary\n",
    "    \n"
   ]
  },
  {
   "cell_type": "code",
   "execution_count": 47,
   "metadata": {},
   "outputs": [],
   "source": [
    "def recommendation(userId,userDic, itemDic, k = 5):\n",
    "    #print(itemDic[userId])\n",
    "    neighbors = getNearNeighbors(userId, userDic, itemDic)[:k]\n",
    "    #print(\"Neighbors\",neighbors)\n",
    "    recommendDic = {}\n",
    "    for neighbor in neighbors:     #neighbor: [similary, neighbor Id]\n",
    "        neighborUserId = neighbor[1]\n",
    "        itemRating = userDic[neighborUserId] #[product Id , rating]\n",
    "        for rating in itemRating:\n",
    "            if rating[0] in recommendDic: recommendDic[rating[0]] += neighbor[0]\n",
    "            else: recommendDic[rating[0]] = neighbor[0]\n",
    "\n",
    "    recommendList = []\n",
    "    for ele in recommendDic:  #ele: {product Id: sum of similary}\n",
    "        recommendList.append([recommendDic[ele], ele])\n",
    "\n",
    "    recommendList.sort(reverse=True)\n",
    "\n",
    "    return [i[1] for i in recommendList], neighbors\n"
   ]
  },
  {
   "cell_type": "code",
   "execution_count": 85,
   "metadata": {
    "tags": []
   },
   "outputs": [],
   "source": [
    "# main function to test\n",
    "# Load the data set \n",
    "datas = pd.read_csv(\"ratings_Beauty.csv\")\n",
    "test = datas[:1000000]\n",
    "test = np.array(test)\n",
    "#print(test[0][0])\n",
    "userDic, itemDic = genUserDic(test)\n",
    "#print(userDic)\n",
    "#print(itemDic)\n",
    "#print(userDic[test[0][0]])\n"
   ]
  },
  {
   "cell_type": "code",
   "execution_count": 88,
   "metadata": {
    "tags": []
   },
   "outputs": [
    {
     "output_type": "stream",
     "name": "stdout",
     "text": [
      "User ID A39HTATAQ9V7YF --> recommend item ID List:  ['B002OVV7F0', 'B002XQ1YL8', 'B002L6NZHG', 'B001SYYMF6', 'B001PTFWSA', 'B001CTUX5K', 'B000OWHKMU', 'B000LZLILE', 'B000F1OVRC', 'B0009OAI18']\nUser ID A3JM6GV9MNOF9X --> recommend item ID List:  ['0558925278']\nUser ID A1Z513UWSAAO0F --> recommend item ID List:  ['0558925278']\nUser ID A1WMRR494NWEWV --> recommend item ID List:  []\nUser ID A3IAAVS479H7M7 --> recommend item ID List:  ['B0002DNZAC', 'B00139FCVO', 'B002NN6Z38', 'B0018HPFNG', 'B00126IXLO', 'B000UYIKM6', 'B000L596FE', 'B000HRVC5I', 'B0006FMR32']\n"
     ]
    }
   ],
   "source": [
    "testRecomm = test[:5]\n",
    "for t in testRecomm:\n",
    "    recommendList, neighbors = recommendation(t[0], userDic, itemDic)\n",
    "    print(\"User ID\", t[0] , \"--> recommend item ID List: \", recommendList)\n"
   ]
  },
  {
   "cell_type": "code",
   "execution_count": 74,
   "metadata": {},
   "outputs": [],
   "source": [
    "def getPrecision(userId, recommendList,userDic):\n",
    "    user = [i[0] for i in userDic[userId]]\n",
    "    recommand = [i for i in recommendList]\n",
    "    count = 0.0\n",
    "    if len(user) >= len(recommand):\n",
    "        for item in recommand:\n",
    "            if item in user: count += 1\n",
    "        precision = count / len(recommand)\n",
    "    else:\n",
    "        for item in user:\n",
    "            if item in recommand: count += 1\n",
    "        precision = count / len(user)\n",
    "    return precision\n",
    "\n"
   ]
  },
  {
   "cell_type": "code",
   "execution_count": 76,
   "metadata": {},
   "outputs": [
    {
     "output_type": "execute_result",
     "data": {
      "text/plain": [
       "0.6666666666666666"
      ]
     },
     "metadata": {},
     "execution_count": 76
    }
   ],
   "source": [
    "p = getPrecision(userId, recommendList,userDic)\n",
    "p"
   ]
  },
  {
   "cell_type": "code",
   "execution_count": null,
   "metadata": {},
   "outputs": [],
   "source": []
  }
 ],
 "metadata": {
  "kernelspec": {
   "display_name": "Python 3",
   "language": "python",
   "name": "python3"
  },
  "language_info": {
   "codemirror_mode": {
    "name": "ipython",
    "version": 3
   },
   "file_extension": ".py",
   "mimetype": "text/x-python",
   "name": "python",
   "nbconvert_exporter": "python",
   "pygments_lexer": "ipython3",
   "version": "3.8.5-final"
  }
 },
 "nbformat": 4,
 "nbformat_minor": 2
}