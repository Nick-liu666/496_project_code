{
 "cells": [
  {
   "cell_type": "markdown",
   "metadata": {},
   "source": [
    "**Examples of Collaborative Filtering based Recommendation Systems**...\n",
    "\n",
    "reference website: https://blog.csdn.net/Jack_yun_feng/article/details/100176399\n",
    "\n",
    "The idea of this model based part is to use linear regression method to predict the rating pattern for each user to each product.\n",
    "\n",
    "Recommende the product with predicted highest rate to user. \n",
    "\n",
    "Algorithm is not complex, but it still has a problem. \n",
    "\n",
    "The rating of a product can only tell us this item is good but it cannot tell us if the targeting user would buy it or not."
   ]
  },
  {
   "source": [
    "Import necessory packages & Take a peak on the dataset."
   ],
   "cell_type": "markdown",
   "metadata": {}
  },
  {
   "cell_type": "code",
   "execution_count": 26,
   "metadata": {
    "collapsed": true
   },
   "outputs": [
    {
     "output_type": "execute_result",
     "data": {
      "text/plain": [
       "           UserId   ProductId  Rating   Timestamp\n",
       "0  A39HTATAQ9V7YF  0205616461     5.0  1369699200\n",
       "1  A3JM6GV9MNOF9X  0558925278     3.0  1355443200\n",
       "2  A1Z513UWSAAO0F  0558925278     5.0  1404691200\n",
       "3  A1WMRR494NWEWV  0733001998     4.0  1382572800\n",
       "4  A3IAAVS479H7M7  0737104473     1.0  1274227200"
      ],
      "text/html": "<div>\n<style scoped>\n    .dataframe tbody tr th:only-of-type {\n        vertical-align: middle;\n    }\n\n    .dataframe tbody tr th {\n        vertical-align: top;\n    }\n\n    .dataframe thead th {\n        text-align: right;\n    }\n</style>\n<table border=\"1\" class=\"dataframe\">\n  <thead>\n    <tr style=\"text-align: right;\">\n      <th></th>\n      <th>UserId</th>\n      <th>ProductId</th>\n      <th>Rating</th>\n      <th>Timestamp</th>\n    </tr>\n  </thead>\n  <tbody>\n    <tr>\n      <th>0</th>\n      <td>A39HTATAQ9V7YF</td>\n      <td>0205616461</td>\n      <td>5.0</td>\n      <td>1369699200</td>\n    </tr>\n    <tr>\n      <th>1</th>\n      <td>A3JM6GV9MNOF9X</td>\n      <td>0558925278</td>\n      <td>3.0</td>\n      <td>1355443200</td>\n    </tr>\n    <tr>\n      <th>2</th>\n      <td>A1Z513UWSAAO0F</td>\n      <td>0558925278</td>\n      <td>5.0</td>\n      <td>1404691200</td>\n    </tr>\n    <tr>\n      <th>3</th>\n      <td>A1WMRR494NWEWV</td>\n      <td>0733001998</td>\n      <td>4.0</td>\n      <td>1382572800</td>\n    </tr>\n    <tr>\n      <th>4</th>\n      <td>A3IAAVS479H7M7</td>\n      <td>0737104473</td>\n      <td>1.0</td>\n      <td>1274227200</td>\n    </tr>\n  </tbody>\n</table>\n</div>"
     },
     "metadata": {},
     "execution_count": 26
    }
   ],
   "source": [
    "import numpy as np\n",
    "import pandas as pd\n",
    "import matplotlib.pyplot as plt\n",
    "dataset = pd.read_csv(\"ratings_Beauty.csv\")\n",
    "dataset_1000 = dataset[:1000]\n",
    "dataset.head()"
   ]
  },
  {
   "source": [
    "Step 1: Make a class to encapsulate all the related functions. (To prevent naming conflict from different class functions)\n",
    "\n",
    "__init__ : includes all the variable initialization and useful parameters.\n",
    "\n",
    "        number_epochs : number of learning iterations.\n",
    "\n",
    "        alpha : the learning rate\n",
    "\n",
    "        reg : the regression rate\n",
    "\n",
    "        columns : the required column_names from the dataset\n",
    "\n",
    "fit : further processing parameters\n",
    "\n",
    "        1) Group dataset based on 'UserId' and 'ProductId', respectively.\n",
    "\n",
    "        2) Calculate global mean of the 'Rating'.\n",
    "\n",
    "        3) Initialize bu (user_bias) and bi (item_bias).\n",
    "\n",
    "        4) Call sgd() to train the model\n",
    "\n",
    "sgd : Stochastic gradient descent\n",
    "\n",
    "        Optimizaing bias to increase the accuracy of the prediction.\n",
    "\n",
    "predict : Predicting equation\n",
    "\n",
    "        predict_rating = global_mean + user_bias(UserId) + item_bias(ProductId)\n"
   ],
   "cell_type": "markdown",
   "metadata": {}
  },
  {
   "cell_type": "code",
   "execution_count": 27,
   "metadata": {},
   "outputs": [],
   "source": [
    "class BaselineCFBySGD(object):\n",
    "\n",
    "    def __init__(self, dataset, number_epochs, alpha, reg, columns=[\"UserId\", \"ProductId\", \"Rating\"]):\n",
    "        self.dataset = dataset\n",
    "        # 梯度下降最高迭代次数\n",
    "        self.number_epochs = number_epochs\n",
    "        # 学习率\n",
    "        self.alpha = alpha\n",
    "        # 正则参数\n",
    "        self.reg = reg\n",
    "        # 数据集中user-item-rating字段的名称\n",
    "        self.columns = columns\n",
    "        # 开始\n",
    "        self.fit()\n",
    "\n",
    "    def fit(self):\n",
    "        '''\n",
    "        :param dataset: uid, iid, rating\n",
    "        :return:\n",
    "        '''\n",
    "        # 用户评分数据\n",
    "        self.users_ratings = self.dataset.groupby(self.columns[0]).agg([list])[[self.columns[1], self.columns[2]]]\n",
    "        # 物品评分数据\n",
    "        self.items_ratings = self.dataset.groupby(self.columns[1]).agg([list])[[self.columns[0], self.columns[2]]]\n",
    "        # 计算全局平均分\n",
    "        self.global_mean = self.dataset[self.columns[2]].mean()\n",
    "        # 调用sgd方法训练模型参数\n",
    "        self.bu, self.bi = self.sgd()\n",
    "\n",
    "    def sgd(self):\n",
    "        '''\n",
    "        利用随机梯度下降，优化bu，bi的值\n",
    "        :return: bu, bi\n",
    "        '''\n",
    "        # 初始化bu、bi的值，全部设为0\n",
    "        bu = dict(zip(self.users_ratings.index, np.zeros(len(self.users_ratings))))\n",
    "        bi = dict(zip(self.items_ratings.index, np.zeros(len(self.items_ratings))))\n",
    "\n",
    "        for i in range(self.number_epochs):\n",
    "        #   print(\"iter%d\" % i)\n",
    "            for uid, iid, real_rating, _ in self.dataset.itertuples(index=False):\n",
    "                error = real_rating - (self.global_mean + bu[uid] + bi[iid])\n",
    "\n",
    "                bu[uid] += self.alpha * (error - self.reg * bu[uid])\n",
    "                bi[iid] += self.alpha * (error - self.reg * bi[iid])\n",
    "\n",
    "        return bu, bi\n",
    "\n",
    "    def predict(self, uid, iid):\n",
    "        predict_rating = self.global_mean + self.bu[uid] + self.bi[iid]\n",
    "        return predict_rating\n"
   ]
  },
  {
   "source": [
    "Test run:\n",
    "\n",
    "    Read first 1000 rows from \"ratings_Beauty.csv\"\n",
    "\n",
    "    Print the first 5 rows as an example.\n",
    "\n",
    "    Run the class with initial value 0.1 as both learning rate and regression rate, 20 iterations.\n",
    "\n",
    "    User can input a UserId, ProductId pair to test the predicted rating."
   ],
   "cell_type": "markdown",
   "metadata": {}
  },
  {
   "cell_type": "code",
   "execution_count": 28,
   "metadata": {},
   "outputs": [
    {
     "output_type": "stream",
     "name": "stdout",
     "text": [
      "           UserId   ProductId  Rating   Timestamp\n",
      "0  A39HTATAQ9V7YF  0205616461     5.0  1369699200\n",
      "1  A3JM6GV9MNOF9X  0558925278     3.0  1355443200\n",
      "2  A1Z513UWSAAO0F  0558925278     5.0  1404691200\n",
      "3  A1WMRR494NWEWV  0733001998     4.0  1382572800\n",
      "4  A3IAAVS479H7M7  0737104473     1.0  1274227200\n",
      "\n",
      "Empty input, break\n"
     ]
    }
   ],
   "source": [
    "print(dataset_1000.head(5))\n",
    "bcf = BaselineCFBySGD(dataset_1000, 20, 0.1, 0.1, [\"UserId\", \"ProductId\", \"Rating\"])\n",
    "print()\n",
    "\n",
    "for _ in range(2):\n",
    "    try:\n",
    "        # Remove input spaces: .strip()\n",
    "        uid = input(\"uid: \").strip()\n",
    "        iid = input(\"iid: \").strip()\n",
    "        print(bcf.predict(uid, iid))\n",
    "    except:\n",
    "        print (\"Empty input, break\")\n",
    "        break\n"
   ]
  },
  {
   "source": [
    "Step 2: Spliting the dataset: \n",
    "\n",
    "    Default 80% of data as training set, the rest 20% as test set.\n"
   ],
   "cell_type": "markdown",
   "metadata": {}
  },
  {
   "cell_type": "code",
   "execution_count": 29,
   "metadata": {},
   "outputs": [],
   "source": [
    "def data_split(dataset, x=0.8):\n",
    "    '''\n",
    "    切分数据集\n",
    "    :param x: 训练集的比例，如x=0.8，则0.2是测试集\n",
    "    :return: 用户-物品评分矩阵\n",
    "    '''\n",
    "    print(\"Spliting data...\")\n",
    "\n",
    "    trainset = dataset.sample(frac=x)\n",
    "    trainset_index = trainset.index.tolist()\n",
    "    testset = dataset.drop(trainset_index)\n",
    "    #print(trainset.size, \"\\n\", testset.size)\n",
    "    \n",
    "    print(\"Data Splited!!!\")\n",
    "    return trainset, testset\n"
   ]
  },
  {
   "source": [
    "Train the model using training set"
   ],
   "cell_type": "markdown",
   "metadata": {}
  },
  {
   "cell_type": "code",
   "execution_count": 30,
   "metadata": {
    "tags": []
   },
   "outputs": [
    {
     "output_type": "stream",
     "name": "stdout",
     "text": [
      "Spliting data...\n",
      "Data Splited!!!\n"
     ]
    }
   ],
   "source": [
    "#Training data\n",
    "trainset, testset = data_split(dataset, x=0.8)\n",
    "bcf = BaselineCFBySGD(trainset, 20, 0.1, 0.1, [\"UserId\", \"ProductId\", \"Rating\"])"
   ]
  },
  {
   "source": [
    "Step 3: Storing the predicted rating into a list"
   ],
   "cell_type": "markdown",
   "metadata": {}
  },
  {
   "cell_type": "code",
   "execution_count": 31,
   "metadata": {
    "tags": []
   },
   "outputs": [],
   "source": [
    "def gen_list (dataset, number_epochs, alpha, reg):\n",
    "\n",
    "    bcf = BaselineCFBySGD(dataset, number_epochs, alpha, reg, [\"UserId\", \"ProductId\", \"Rating\"])\n",
    "\n",
    "    pred_rating =[]\n",
    "    for uid, iid, real_rating, _ in dataset.itertuples(index=False):\n",
    "        pred_rating_result = (uid, iid, real_rating, bcf.predict(uid, iid))\n",
    "        pred_rating.append(pred_rating_result)\n",
    "    \n",
    "    return pred_rating"
   ]
  },
  {
   "source": [
    "Step 4: Calculating accuracy: (find error)\n",
    "    \n",
    "    Method 1: rmse                                       Method 2: mae \n",
    "    \n",
    "<img src=\"img/rmse.png\" width=\"30%\">                <img src=\"img/mae.png\" width=\"30%\">\n"
   ],
   "cell_type": "markdown",
   "metadata": {}
  },
  {
   "cell_type": "code",
   "execution_count": 32,
   "metadata": {},
   "outputs": [],
   "source": [
    "def accuray(predict_results, method=\"\"):\n",
    "    '''\n",
    "    准确性指标计算方法\n",
    "    :param predict_results: 预测结果，类型为容器，每个元素是一个包含uid,iid,real_rating,pred_rating的序列\n",
    "    :param method: 指标方法，类型为字符串，rmse或mae，否则返回两者rmse和mae\n",
    "    : m length; y real_rating; y_hat pred_rating\n",
    "    :return:\n",
    "    '''\n",
    "    \n",
    "    def rmse(predict_results):\n",
    "        '''\n",
    "        rmse评估指标 (均方根误差)\n",
    "        :param predict_results\n",
    "        :return: rmse\n",
    "        '''\n",
    "        length = 0\n",
    "        _rmse_sum = 0\n",
    "        for uid, iid, real_rating, pred_rating in predict_results:\n",
    "            length += 1\n",
    "            _rmse_sum += (pred_rating - real_rating) ** 2\n",
    "        return round(np.sqrt(_rmse_sum / length), 4)\n",
    "\n",
    "    def mae(predict_results):\n",
    "        '''\n",
    "        mae评估指标 (平均绝对误差)\n",
    "        :param predict_results:\n",
    "        :return: mae\n",
    "        '''\n",
    "        length = 0\n",
    "        _mae_sum = 0\n",
    "        for uid, iid, real_rating, pred_rating in predict_results:\n",
    "            length += 1\n",
    "            _mae_sum += abs(pred_rating - real_rating)\n",
    "        return round(_mae_sum / length, 4)\n",
    "\n",
    "    def rmse_mae(predict_results):\n",
    "        '''\n",
    "        rmse和mae评估指标\n",
    "        :param predict_results:\n",
    "        :return: rmse, mae\n",
    "        '''\n",
    "        length = 0\n",
    "        _rmse_sum = 0\n",
    "        _mae_sum = 0\n",
    "        for uid, iid, real_rating, pred_rating in predict_results:\n",
    "            length += 1\n",
    "            _rmse_sum += (pred_rating - real_rating) ** 2\n",
    "            _mae_sum += abs(pred_rating - real_rating)\n",
    "        return round(np.sqrt(_rmse_sum / length), 4), round(_mae_sum / length, 4)\n",
    "\n",
    "    if method.lower() == \"rmse\":\n",
    "        return rmse(predict_results)\n",
    "    elif method.lower() == \"mae\":\n",
    "        return mae(predict_results)\n",
    "    else:\n",
    "        return rmse_mae(predict_results)"
   ]
  },
  {
   "source": [
    "Step 5: Addjust function parameters (iteration, alpha, reg) to achieve the most accurate model\n",
    "\n",
    "    1) Change the iteration number from 20 to 100, plot it, check the number of iteration with lowest error.\n",
    "\n",
    "    2) Try lowering the learning rate (alpha) to furthor decrease error.\n",
    "\n",
    "    3) As well as the regression rate.\n",
    "\n"
   ],
   "cell_type": "markdown",
   "metadata": {}
  },
  {
   "cell_type": "code",
   "execution_count": 33,
   "metadata": {
    "tags": []
   },
   "outputs": [
    {
     "output_type": "error",
     "ename": "KeyboardInterrupt",
     "evalue": "",
     "traceback": [
      "\u001b[0;31m---------------------------------------------------------------------------\u001b[0m",
      "\u001b[0;31mKeyboardInterrupt\u001b[0m                         Traceback (most recent call last)",
      "\u001b[0;32m<ipython-input-33-565b86706996>\u001b[0m in \u001b[0;36m<module>\u001b[0;34m\u001b[0m\n\u001b[1;32m      3\u001b[0m \u001b[0;32mfor\u001b[0m \u001b[0mnumber_epochs\u001b[0m \u001b[0;32min\u001b[0m \u001b[0mrange\u001b[0m\u001b[0;34m(\u001b[0m\u001b[0;36m20\u001b[0m\u001b[0;34m,\u001b[0m \u001b[0;36m100\u001b[0m\u001b[0;34m)\u001b[0m\u001b[0;34m:\u001b[0m\u001b[0;34m\u001b[0m\u001b[0;34m\u001b[0m\u001b[0m\n\u001b[1;32m      4\u001b[0m \u001b[0;34m\u001b[0m\u001b[0m\n\u001b[0;32m----> 5\u001b[0;31m     \u001b[0mpred_rating\u001b[0m \u001b[0;34m=\u001b[0m \u001b[0mgen_list\u001b[0m\u001b[0;34m(\u001b[0m\u001b[0mtrainset\u001b[0m\u001b[0;34m,\u001b[0m \u001b[0mnumber_epochs\u001b[0m\u001b[0;34m,\u001b[0m \u001b[0;36m0.1\u001b[0m\u001b[0;34m,\u001b[0m \u001b[0;36m0.1\u001b[0m\u001b[0;34m)\u001b[0m\u001b[0;34m\u001b[0m\u001b[0;34m\u001b[0m\u001b[0m\n\u001b[0m\u001b[1;32m      6\u001b[0m \u001b[0;34m\u001b[0m\u001b[0m\n\u001b[1;32m      7\u001b[0m     \u001b[0merror\u001b[0m \u001b[0;34m=\u001b[0m \u001b[0maccuray\u001b[0m\u001b[0;34m(\u001b[0m\u001b[0mpred_rating\u001b[0m\u001b[0;34m)\u001b[0m\u001b[0;34m\u001b[0m\u001b[0;34m\u001b[0m\u001b[0m\n",
      "\u001b[0;32m<ipython-input-31-22928a355fcf>\u001b[0m in \u001b[0;36mgen_list\u001b[0;34m(dataset, number_epochs, alpha, reg)\u001b[0m\n\u001b[1;32m      1\u001b[0m \u001b[0;32mdef\u001b[0m \u001b[0mgen_list\u001b[0m \u001b[0;34m(\u001b[0m\u001b[0mdataset\u001b[0m\u001b[0;34m,\u001b[0m \u001b[0mnumber_epochs\u001b[0m\u001b[0;34m,\u001b[0m \u001b[0malpha\u001b[0m\u001b[0;34m,\u001b[0m \u001b[0mreg\u001b[0m\u001b[0;34m)\u001b[0m\u001b[0;34m:\u001b[0m\u001b[0;34m\u001b[0m\u001b[0;34m\u001b[0m\u001b[0m\n\u001b[1;32m      2\u001b[0m \u001b[0;34m\u001b[0m\u001b[0m\n\u001b[0;32m----> 3\u001b[0;31m     \u001b[0mbcf\u001b[0m \u001b[0;34m=\u001b[0m \u001b[0mBaselineCFBySGD\u001b[0m\u001b[0;34m(\u001b[0m\u001b[0mdataset\u001b[0m\u001b[0;34m,\u001b[0m \u001b[0mnumber_epochs\u001b[0m\u001b[0;34m,\u001b[0m \u001b[0malpha\u001b[0m\u001b[0;34m,\u001b[0m \u001b[0mreg\u001b[0m\u001b[0;34m,\u001b[0m \u001b[0;34m[\u001b[0m\u001b[0;34m\"UserId\"\u001b[0m\u001b[0;34m,\u001b[0m \u001b[0;34m\"ProductId\"\u001b[0m\u001b[0;34m,\u001b[0m \u001b[0;34m\"Rating\"\u001b[0m\u001b[0;34m]\u001b[0m\u001b[0;34m)\u001b[0m\u001b[0;34m\u001b[0m\u001b[0;34m\u001b[0m\u001b[0m\n\u001b[0m\u001b[1;32m      4\u001b[0m \u001b[0;34m\u001b[0m\u001b[0m\n\u001b[1;32m      5\u001b[0m     \u001b[0mpred_rating\u001b[0m \u001b[0;34m=\u001b[0m\u001b[0;34m[\u001b[0m\u001b[0;34m]\u001b[0m\u001b[0;34m\u001b[0m\u001b[0;34m\u001b[0m\u001b[0m\n",
      "\u001b[0;32m<ipython-input-27-a718d3cf7f2b>\u001b[0m in \u001b[0;36m__init__\u001b[0;34m(self, dataset, number_epochs, alpha, reg, columns)\u001b[0m\n\u001b[1;32m     12\u001b[0m         \u001b[0mself\u001b[0m\u001b[0;34m.\u001b[0m\u001b[0mcolumns\u001b[0m \u001b[0;34m=\u001b[0m \u001b[0mcolumns\u001b[0m\u001b[0;34m\u001b[0m\u001b[0;34m\u001b[0m\u001b[0m\n\u001b[1;32m     13\u001b[0m         \u001b[0;31m# 开始\u001b[0m\u001b[0;34m\u001b[0m\u001b[0;34m\u001b[0m\u001b[0;34m\u001b[0m\u001b[0m\n\u001b[0;32m---> 14\u001b[0;31m         \u001b[0mself\u001b[0m\u001b[0;34m.\u001b[0m\u001b[0mfit\u001b[0m\u001b[0;34m(\u001b[0m\u001b[0;34m)\u001b[0m\u001b[0;34m\u001b[0m\u001b[0;34m\u001b[0m\u001b[0m\n\u001b[0m\u001b[1;32m     15\u001b[0m \u001b[0;34m\u001b[0m\u001b[0m\n\u001b[1;32m     16\u001b[0m     \u001b[0;32mdef\u001b[0m \u001b[0mfit\u001b[0m\u001b[0;34m(\u001b[0m\u001b[0mself\u001b[0m\u001b[0;34m)\u001b[0m\u001b[0;34m:\u001b[0m\u001b[0;34m\u001b[0m\u001b[0;34m\u001b[0m\u001b[0m\n",
      "\u001b[0;32m<ipython-input-27-a718d3cf7f2b>\u001b[0m in \u001b[0;36mfit\u001b[0;34m(self)\u001b[0m\n\u001b[1;32m     26\u001b[0m         \u001b[0mself\u001b[0m\u001b[0;34m.\u001b[0m\u001b[0mglobal_mean\u001b[0m \u001b[0;34m=\u001b[0m \u001b[0mself\u001b[0m\u001b[0;34m.\u001b[0m\u001b[0mdataset\u001b[0m\u001b[0;34m[\u001b[0m\u001b[0mself\u001b[0m\u001b[0;34m.\u001b[0m\u001b[0mcolumns\u001b[0m\u001b[0;34m[\u001b[0m\u001b[0;36m2\u001b[0m\u001b[0;34m]\u001b[0m\u001b[0;34m]\u001b[0m\u001b[0;34m.\u001b[0m\u001b[0mmean\u001b[0m\u001b[0;34m(\u001b[0m\u001b[0;34m)\u001b[0m\u001b[0;34m\u001b[0m\u001b[0;34m\u001b[0m\u001b[0m\n\u001b[1;32m     27\u001b[0m         \u001b[0;31m# 调用sgd方法训练模型参数\u001b[0m\u001b[0;34m\u001b[0m\u001b[0;34m\u001b[0m\u001b[0;34m\u001b[0m\u001b[0m\n\u001b[0;32m---> 28\u001b[0;31m         \u001b[0mself\u001b[0m\u001b[0;34m.\u001b[0m\u001b[0mbu\u001b[0m\u001b[0;34m,\u001b[0m \u001b[0mself\u001b[0m\u001b[0;34m.\u001b[0m\u001b[0mbi\u001b[0m \u001b[0;34m=\u001b[0m \u001b[0mself\u001b[0m\u001b[0;34m.\u001b[0m\u001b[0msgd\u001b[0m\u001b[0;34m(\u001b[0m\u001b[0;34m)\u001b[0m\u001b[0;34m\u001b[0m\u001b[0;34m\u001b[0m\u001b[0m\n\u001b[0m\u001b[1;32m     29\u001b[0m \u001b[0;34m\u001b[0m\u001b[0m\n\u001b[1;32m     30\u001b[0m     \u001b[0;32mdef\u001b[0m \u001b[0msgd\u001b[0m\u001b[0;34m(\u001b[0m\u001b[0mself\u001b[0m\u001b[0;34m)\u001b[0m\u001b[0;34m:\u001b[0m\u001b[0;34m\u001b[0m\u001b[0;34m\u001b[0m\u001b[0m\n",
      "\u001b[0;32m<ipython-input-27-a718d3cf7f2b>\u001b[0m in \u001b[0;36msgd\u001b[0;34m(self)\u001b[0m\n\u001b[1;32m     40\u001b[0m         \u001b[0;31m#   print(\"iter%d\" % i)\u001b[0m\u001b[0;34m\u001b[0m\u001b[0;34m\u001b[0m\u001b[0;34m\u001b[0m\u001b[0m\n\u001b[1;32m     41\u001b[0m             \u001b[0;32mfor\u001b[0m \u001b[0muid\u001b[0m\u001b[0;34m,\u001b[0m \u001b[0miid\u001b[0m\u001b[0;34m,\u001b[0m \u001b[0mreal_rating\u001b[0m\u001b[0;34m,\u001b[0m \u001b[0m_\u001b[0m \u001b[0;32min\u001b[0m \u001b[0mself\u001b[0m\u001b[0;34m.\u001b[0m\u001b[0mdataset\u001b[0m\u001b[0;34m.\u001b[0m\u001b[0mitertuples\u001b[0m\u001b[0;34m(\u001b[0m\u001b[0mindex\u001b[0m\u001b[0;34m=\u001b[0m\u001b[0;32mFalse\u001b[0m\u001b[0;34m)\u001b[0m\u001b[0;34m:\u001b[0m\u001b[0;34m\u001b[0m\u001b[0;34m\u001b[0m\u001b[0m\n\u001b[0;32m---> 42\u001b[0;31m                 \u001b[0merror\u001b[0m \u001b[0;34m=\u001b[0m \u001b[0mreal_rating\u001b[0m \u001b[0;34m-\u001b[0m \u001b[0;34m(\u001b[0m\u001b[0mself\u001b[0m\u001b[0;34m.\u001b[0m\u001b[0mglobal_mean\u001b[0m \u001b[0;34m+\u001b[0m \u001b[0mbu\u001b[0m\u001b[0;34m[\u001b[0m\u001b[0muid\u001b[0m\u001b[0;34m]\u001b[0m \u001b[0;34m+\u001b[0m \u001b[0mbi\u001b[0m\u001b[0;34m[\u001b[0m\u001b[0miid\u001b[0m\u001b[0;34m]\u001b[0m\u001b[0;34m)\u001b[0m\u001b[0;34m\u001b[0m\u001b[0;34m\u001b[0m\u001b[0m\n\u001b[0m\u001b[1;32m     43\u001b[0m \u001b[0;34m\u001b[0m\u001b[0m\n\u001b[1;32m     44\u001b[0m                 \u001b[0mbu\u001b[0m\u001b[0;34m[\u001b[0m\u001b[0muid\u001b[0m\u001b[0;34m]\u001b[0m \u001b[0;34m+=\u001b[0m \u001b[0mself\u001b[0m\u001b[0;34m.\u001b[0m\u001b[0malpha\u001b[0m \u001b[0;34m*\u001b[0m \u001b[0;34m(\u001b[0m\u001b[0merror\u001b[0m \u001b[0;34m-\u001b[0m \u001b[0mself\u001b[0m\u001b[0;34m.\u001b[0m\u001b[0mreg\u001b[0m \u001b[0;34m*\u001b[0m \u001b[0mbu\u001b[0m\u001b[0;34m[\u001b[0m\u001b[0muid\u001b[0m\u001b[0;34m]\u001b[0m\u001b[0;34m)\u001b[0m\u001b[0;34m\u001b[0m\u001b[0;34m\u001b[0m\u001b[0m\n",
      "\u001b[0;31mKeyboardInterrupt\u001b[0m: "
     ]
    }
   ],
   "source": [
    "iterationList = []\n",
    "\n",
    "for number_epochs in range(20, 100):\n",
    "    \n",
    "    pred_rating = gen_list(trainset, number_epochs, 0.1, 0.1)\n",
    "\n",
    "    error = accuray(pred_rating)\n",
    "    iterationList.append(error)\n",
    "\n",
    "plt.plot(np.linspace(20, 100, 80), iterationList)\n",
    "plt.ylabel('errors')\n",
    "plt.show()"
   ]
  },
  {
   "source": [
    "From the graph, we can know the two error methodss are having the same pattern. And they both reached minimum error point approximatly at 100 iteration. \n",
    "\n",
    "    number_epochs = 100"
   ],
   "cell_type": "markdown",
   "metadata": {}
  },
  {
   "cell_type": "code",
   "execution_count": 9,
   "metadata": {},
   "outputs": [
    {
     "output_type": "display_data",
     "data": {
      "text/plain": "<Figure size 432x288 with 1 Axes>",
      "image/svg+xml": "<?xml version=\"1.0\" encoding=\"utf-8\" standalone=\"no\"?>\n<!DOCTYPE svg PUBLIC \"-//W3C//DTD SVG 1.1//EN\"\n  \"http://www.w3.org/Graphics/SVG/1.1/DTD/svg11.dtd\">\n<!-- Created with matplotlib (https://matplotlib.org/) -->\n<svg height=\"248.518125pt\" version=\"1.1\" viewBox=\"0 0 385.78125 248.518125\" width=\"385.78125pt\" xmlns=\"http://www.w3.org/2000/svg\" xmlns:xlink=\"http://www.w3.org/1999/xlink\">\n <defs>\n  <style type=\"text/css\">\n*{stroke-linecap:butt;stroke-linejoin:round;}\n  </style>\n </defs>\n <g id=\"figure_1\">\n  <g id=\"patch_1\">\n   <path d=\"M 0 248.518125 \nL 385.78125 248.518125 \nL 385.78125 0 \nL 0 0 \nz\n\" style=\"fill:none;\"/>\n  </g>\n  <g id=\"axes_1\">\n   <g id=\"patch_2\">\n    <path d=\"M 43.78125 224.64 \nL 378.58125 224.64 \nL 378.58125 7.2 \nL 43.78125 7.2 \nz\n\" style=\"fill:#ffffff;\"/>\n   </g>\n   <g id=\"matplotlib.axis_1\">\n    <g id=\"xtick_1\">\n     <g id=\"line2d_1\">\n      <defs>\n       <path d=\"M 0 0 \nL 0 3.5 \n\" id=\"m5f61579361\" style=\"stroke:#000000;stroke-width:0.8;\"/>\n      </defs>\n      <g>\n       <use style=\"stroke:#000000;stroke-width:0.8;\" x=\"58.999432\" xlink:href=\"#m5f61579361\" y=\"224.64\"/>\n      </g>\n     </g>\n     <g id=\"text_1\">\n      <!-- 0.0 -->\n      <defs>\n       <path d=\"M 31.78125 66.40625 \nQ 24.171875 66.40625 20.328125 58.90625 \nQ 16.5 51.421875 16.5 36.375 \nQ 16.5 21.390625 20.328125 13.890625 \nQ 24.171875 6.390625 31.78125 6.390625 \nQ 39.453125 6.390625 43.28125 13.890625 \nQ 47.125 21.390625 47.125 36.375 \nQ 47.125 51.421875 43.28125 58.90625 \nQ 39.453125 66.40625 31.78125 66.40625 \nz\nM 31.78125 74.21875 \nQ 44.046875 74.21875 50.515625 64.515625 \nQ 56.984375 54.828125 56.984375 36.375 \nQ 56.984375 17.96875 50.515625 8.265625 \nQ 44.046875 -1.421875 31.78125 -1.421875 \nQ 19.53125 -1.421875 13.0625 8.265625 \nQ 6.59375 17.96875 6.59375 36.375 \nQ 6.59375 54.828125 13.0625 64.515625 \nQ 19.53125 74.21875 31.78125 74.21875 \nz\n\" id=\"DejaVuSans-48\"/>\n       <path d=\"M 10.6875 12.40625 \nL 21 12.40625 \nL 21 0 \nL 10.6875 0 \nz\n\" id=\"DejaVuSans-46\"/>\n      </defs>\n      <g transform=\"translate(51.047869 239.238438)scale(0.1 -0.1)\">\n       <use xlink:href=\"#DejaVuSans-48\"/>\n       <use x=\"63.623047\" xlink:href=\"#DejaVuSans-46\"/>\n       <use x=\"95.410156\" xlink:href=\"#DejaVuSans-48\"/>\n      </g>\n     </g>\n    </g>\n    <g id=\"xtick_2\">\n     <g id=\"line2d_2\">\n      <g>\n       <use style=\"stroke:#000000;stroke-width:0.8;\" x=\"97.044886\" xlink:href=\"#m5f61579361\" y=\"224.64\"/>\n      </g>\n     </g>\n     <g id=\"text_2\">\n      <!-- 0.1 -->\n      <defs>\n       <path d=\"M 12.40625 8.296875 \nL 28.515625 8.296875 \nL 28.515625 63.921875 \nL 10.984375 60.40625 \nL 10.984375 69.390625 \nL 28.421875 72.90625 \nL 38.28125 72.90625 \nL 38.28125 8.296875 \nL 54.390625 8.296875 \nL 54.390625 0 \nL 12.40625 0 \nz\n\" id=\"DejaVuSans-49\"/>\n      </defs>\n      <g transform=\"translate(89.093324 239.238438)scale(0.1 -0.1)\">\n       <use xlink:href=\"#DejaVuSans-48\"/>\n       <use x=\"63.623047\" xlink:href=\"#DejaVuSans-46\"/>\n       <use x=\"95.410156\" xlink:href=\"#DejaVuSans-49\"/>\n      </g>\n     </g>\n    </g>\n    <g id=\"xtick_3\">\n     <g id=\"line2d_3\">\n      <g>\n       <use style=\"stroke:#000000;stroke-width:0.8;\" x=\"135.090341\" xlink:href=\"#m5f61579361\" y=\"224.64\"/>\n      </g>\n     </g>\n     <g id=\"text_3\">\n      <!-- 0.2 -->\n      <defs>\n       <path d=\"M 19.1875 8.296875 \nL 53.609375 8.296875 \nL 53.609375 0 \nL 7.328125 0 \nL 7.328125 8.296875 \nQ 12.9375 14.109375 22.625 23.890625 \nQ 32.328125 33.6875 34.8125 36.53125 \nQ 39.546875 41.84375 41.421875 45.53125 \nQ 43.3125 49.21875 43.3125 52.78125 \nQ 43.3125 58.59375 39.234375 62.25 \nQ 35.15625 65.921875 28.609375 65.921875 \nQ 23.96875 65.921875 18.8125 64.3125 \nQ 13.671875 62.703125 7.8125 59.421875 \nL 7.8125 69.390625 \nQ 13.765625 71.78125 18.9375 73 \nQ 24.125 74.21875 28.421875 74.21875 \nQ 39.75 74.21875 46.484375 68.546875 \nQ 53.21875 62.890625 53.21875 53.421875 \nQ 53.21875 48.921875 51.53125 44.890625 \nQ 49.859375 40.875 45.40625 35.40625 \nQ 44.1875 33.984375 37.640625 27.21875 \nQ 31.109375 20.453125 19.1875 8.296875 \nz\n\" id=\"DejaVuSans-50\"/>\n      </defs>\n      <g transform=\"translate(127.138778 239.238438)scale(0.1 -0.1)\">\n       <use xlink:href=\"#DejaVuSans-48\"/>\n       <use x=\"63.623047\" xlink:href=\"#DejaVuSans-46\"/>\n       <use x=\"95.410156\" xlink:href=\"#DejaVuSans-50\"/>\n      </g>\n     </g>\n    </g>\n    <g id=\"xtick_4\">\n     <g id=\"line2d_4\">\n      <g>\n       <use style=\"stroke:#000000;stroke-width:0.8;\" x=\"173.135795\" xlink:href=\"#m5f61579361\" y=\"224.64\"/>\n      </g>\n     </g>\n     <g id=\"text_4\">\n      <!-- 0.3 -->\n      <defs>\n       <path d=\"M 40.578125 39.3125 \nQ 47.65625 37.796875 51.625 33 \nQ 55.609375 28.21875 55.609375 21.1875 \nQ 55.609375 10.40625 48.1875 4.484375 \nQ 40.765625 -1.421875 27.09375 -1.421875 \nQ 22.515625 -1.421875 17.65625 -0.515625 \nQ 12.796875 0.390625 7.625 2.203125 \nL 7.625 11.71875 \nQ 11.71875 9.328125 16.59375 8.109375 \nQ 21.484375 6.890625 26.8125 6.890625 \nQ 36.078125 6.890625 40.9375 10.546875 \nQ 45.796875 14.203125 45.796875 21.1875 \nQ 45.796875 27.640625 41.28125 31.265625 \nQ 36.765625 34.90625 28.71875 34.90625 \nL 20.21875 34.90625 \nL 20.21875 43.015625 \nL 29.109375 43.015625 \nQ 36.375 43.015625 40.234375 45.921875 \nQ 44.09375 48.828125 44.09375 54.296875 \nQ 44.09375 59.90625 40.109375 62.90625 \nQ 36.140625 65.921875 28.71875 65.921875 \nQ 24.65625 65.921875 20.015625 65.03125 \nQ 15.375 64.15625 9.8125 62.3125 \nL 9.8125 71.09375 \nQ 15.4375 72.65625 20.34375 73.4375 \nQ 25.25 74.21875 29.59375 74.21875 \nQ 40.828125 74.21875 47.359375 69.109375 \nQ 53.90625 64.015625 53.90625 55.328125 \nQ 53.90625 49.265625 50.4375 45.09375 \nQ 46.96875 40.921875 40.578125 39.3125 \nz\n\" id=\"DejaVuSans-51\"/>\n      </defs>\n      <g transform=\"translate(165.184233 239.238438)scale(0.1 -0.1)\">\n       <use xlink:href=\"#DejaVuSans-48\"/>\n       <use x=\"63.623047\" xlink:href=\"#DejaVuSans-46\"/>\n       <use x=\"95.410156\" xlink:href=\"#DejaVuSans-51\"/>\n      </g>\n     </g>\n    </g>\n    <g id=\"xtick_5\">\n     <g id=\"line2d_5\">\n      <g>\n       <use style=\"stroke:#000000;stroke-width:0.8;\" x=\"211.18125\" xlink:href=\"#m5f61579361\" y=\"224.64\"/>\n      </g>\n     </g>\n     <g id=\"text_5\">\n      <!-- 0.4 -->\n      <defs>\n       <path d=\"M 37.796875 64.3125 \nL 12.890625 25.390625 \nL 37.796875 25.390625 \nz\nM 35.203125 72.90625 \nL 47.609375 72.90625 \nL 47.609375 25.390625 \nL 58.015625 25.390625 \nL 58.015625 17.1875 \nL 47.609375 17.1875 \nL 47.609375 0 \nL 37.796875 0 \nL 37.796875 17.1875 \nL 4.890625 17.1875 \nL 4.890625 26.703125 \nz\n\" id=\"DejaVuSans-52\"/>\n      </defs>\n      <g transform=\"translate(203.229688 239.238438)scale(0.1 -0.1)\">\n       <use xlink:href=\"#DejaVuSans-48\"/>\n       <use x=\"63.623047\" xlink:href=\"#DejaVuSans-46\"/>\n       <use x=\"95.410156\" xlink:href=\"#DejaVuSans-52\"/>\n      </g>\n     </g>\n    </g>\n    <g id=\"xtick_6\">\n     <g id=\"line2d_6\">\n      <g>\n       <use style=\"stroke:#000000;stroke-width:0.8;\" x=\"249.226705\" xlink:href=\"#m5f61579361\" y=\"224.64\"/>\n      </g>\n     </g>\n     <g id=\"text_6\">\n      <!-- 0.5 -->\n      <defs>\n       <path d=\"M 10.796875 72.90625 \nL 49.515625 72.90625 \nL 49.515625 64.59375 \nL 19.828125 64.59375 \nL 19.828125 46.734375 \nQ 21.96875 47.46875 24.109375 47.828125 \nQ 26.265625 48.1875 28.421875 48.1875 \nQ 40.625 48.1875 47.75 41.5 \nQ 54.890625 34.8125 54.890625 23.390625 \nQ 54.890625 11.625 47.5625 5.09375 \nQ 40.234375 -1.421875 26.90625 -1.421875 \nQ 22.3125 -1.421875 17.546875 -0.640625 \nQ 12.796875 0.140625 7.71875 1.703125 \nL 7.71875 11.625 \nQ 12.109375 9.234375 16.796875 8.0625 \nQ 21.484375 6.890625 26.703125 6.890625 \nQ 35.15625 6.890625 40.078125 11.328125 \nQ 45.015625 15.765625 45.015625 23.390625 \nQ 45.015625 31 40.078125 35.4375 \nQ 35.15625 39.890625 26.703125 39.890625 \nQ 22.75 39.890625 18.8125 39.015625 \nQ 14.890625 38.140625 10.796875 36.28125 \nz\n\" id=\"DejaVuSans-53\"/>\n      </defs>\n      <g transform=\"translate(241.275142 239.238438)scale(0.1 -0.1)\">\n       <use xlink:href=\"#DejaVuSans-48\"/>\n       <use x=\"63.623047\" xlink:href=\"#DejaVuSans-46\"/>\n       <use x=\"95.410156\" xlink:href=\"#DejaVuSans-53\"/>\n      </g>\n     </g>\n    </g>\n    <g id=\"xtick_7\">\n     <g id=\"line2d_7\">\n      <g>\n       <use style=\"stroke:#000000;stroke-width:0.8;\" x=\"287.272159\" xlink:href=\"#m5f61579361\" y=\"224.64\"/>\n      </g>\n     </g>\n     <g id=\"text_7\">\n      <!-- 0.6 -->\n      <defs>\n       <path d=\"M 33.015625 40.375 \nQ 26.375 40.375 22.484375 35.828125 \nQ 18.609375 31.296875 18.609375 23.390625 \nQ 18.609375 15.53125 22.484375 10.953125 \nQ 26.375 6.390625 33.015625 6.390625 \nQ 39.65625 6.390625 43.53125 10.953125 \nQ 47.40625 15.53125 47.40625 23.390625 \nQ 47.40625 31.296875 43.53125 35.828125 \nQ 39.65625 40.375 33.015625 40.375 \nz\nM 52.59375 71.296875 \nL 52.59375 62.3125 \nQ 48.875 64.0625 45.09375 64.984375 \nQ 41.3125 65.921875 37.59375 65.921875 \nQ 27.828125 65.921875 22.671875 59.328125 \nQ 17.53125 52.734375 16.796875 39.40625 \nQ 19.671875 43.65625 24.015625 45.921875 \nQ 28.375 48.1875 33.59375 48.1875 \nQ 44.578125 48.1875 50.953125 41.515625 \nQ 57.328125 34.859375 57.328125 23.390625 \nQ 57.328125 12.15625 50.6875 5.359375 \nQ 44.046875 -1.421875 33.015625 -1.421875 \nQ 20.359375 -1.421875 13.671875 8.265625 \nQ 6.984375 17.96875 6.984375 36.375 \nQ 6.984375 53.65625 15.1875 63.9375 \nQ 23.390625 74.21875 37.203125 74.21875 \nQ 40.921875 74.21875 44.703125 73.484375 \nQ 48.484375 72.75 52.59375 71.296875 \nz\n\" id=\"DejaVuSans-54\"/>\n      </defs>\n      <g transform=\"translate(279.320597 239.238438)scale(0.1 -0.1)\">\n       <use xlink:href=\"#DejaVuSans-48\"/>\n       <use x=\"63.623047\" xlink:href=\"#DejaVuSans-46\"/>\n       <use x=\"95.410156\" xlink:href=\"#DejaVuSans-54\"/>\n      </g>\n     </g>\n    </g>\n    <g id=\"xtick_8\">\n     <g id=\"line2d_8\">\n      <g>\n       <use style=\"stroke:#000000;stroke-width:0.8;\" x=\"325.317614\" xlink:href=\"#m5f61579361\" y=\"224.64\"/>\n      </g>\n     </g>\n     <g id=\"text_8\">\n      <!-- 0.7 -->\n      <defs>\n       <path d=\"M 8.203125 72.90625 \nL 55.078125 72.90625 \nL 55.078125 68.703125 \nL 28.609375 0 \nL 18.3125 0 \nL 43.21875 64.59375 \nL 8.203125 64.59375 \nz\n\" id=\"DejaVuSans-55\"/>\n      </defs>\n      <g transform=\"translate(317.366051 239.238438)scale(0.1 -0.1)\">\n       <use xlink:href=\"#DejaVuSans-48\"/>\n       <use x=\"63.623047\" xlink:href=\"#DejaVuSans-46\"/>\n       <use x=\"95.410156\" xlink:href=\"#DejaVuSans-55\"/>\n      </g>\n     </g>\n    </g>\n    <g id=\"xtick_9\">\n     <g id=\"line2d_9\">\n      <g>\n       <use style=\"stroke:#000000;stroke-width:0.8;\" x=\"363.363068\" xlink:href=\"#m5f61579361\" y=\"224.64\"/>\n      </g>\n     </g>\n     <g id=\"text_9\">\n      <!-- 0.8 -->\n      <defs>\n       <path d=\"M 31.78125 34.625 \nQ 24.75 34.625 20.71875 30.859375 \nQ 16.703125 27.09375 16.703125 20.515625 \nQ 16.703125 13.921875 20.71875 10.15625 \nQ 24.75 6.390625 31.78125 6.390625 \nQ 38.8125 6.390625 42.859375 10.171875 \nQ 46.921875 13.96875 46.921875 20.515625 \nQ 46.921875 27.09375 42.890625 30.859375 \nQ 38.875 34.625 31.78125 34.625 \nz\nM 21.921875 38.8125 \nQ 15.578125 40.375 12.03125 44.71875 \nQ 8.5 49.078125 8.5 55.328125 \nQ 8.5 64.0625 14.71875 69.140625 \nQ 20.953125 74.21875 31.78125 74.21875 \nQ 42.671875 74.21875 48.875 69.140625 \nQ 55.078125 64.0625 55.078125 55.328125 \nQ 55.078125 49.078125 51.53125 44.71875 \nQ 48 40.375 41.703125 38.8125 \nQ 48.828125 37.15625 52.796875 32.3125 \nQ 56.78125 27.484375 56.78125 20.515625 \nQ 56.78125 9.90625 50.3125 4.234375 \nQ 43.84375 -1.421875 31.78125 -1.421875 \nQ 19.734375 -1.421875 13.25 4.234375 \nQ 6.78125 9.90625 6.78125 20.515625 \nQ 6.78125 27.484375 10.78125 32.3125 \nQ 14.796875 37.15625 21.921875 38.8125 \nz\nM 18.3125 54.390625 \nQ 18.3125 48.734375 21.84375 45.5625 \nQ 25.390625 42.390625 31.78125 42.390625 \nQ 38.140625 42.390625 41.71875 45.5625 \nQ 45.3125 48.734375 45.3125 54.390625 \nQ 45.3125 60.0625 41.71875 63.234375 \nQ 38.140625 66.40625 31.78125 66.40625 \nQ 25.390625 66.40625 21.84375 63.234375 \nQ 18.3125 60.0625 18.3125 54.390625 \nz\n\" id=\"DejaVuSans-56\"/>\n      </defs>\n      <g transform=\"translate(355.411506 239.238438)scale(0.1 -0.1)\">\n       <use xlink:href=\"#DejaVuSans-48\"/>\n       <use x=\"63.623047\" xlink:href=\"#DejaVuSans-46\"/>\n       <use x=\"95.410156\" xlink:href=\"#DejaVuSans-56\"/>\n      </g>\n     </g>\n    </g>\n   </g>\n   <g id=\"matplotlib.axis_2\">\n    <g id=\"ytick_1\">\n     <g id=\"line2d_10\">\n      <defs>\n       <path d=\"M 0 0 \nL -3.5 0 \n\" id=\"m9241620bae\" style=\"stroke:#000000;stroke-width:0.8;\"/>\n      </defs>\n      <g>\n       <use style=\"stroke:#000000;stroke-width:0.8;\" x=\"43.78125\" xlink:href=\"#m9241620bae\" y=\"197.763366\"/>\n      </g>\n     </g>\n     <g id=\"text_10\">\n      <!-- 0.2 -->\n      <g transform=\"translate(20.878125 201.562585)scale(0.1 -0.1)\">\n       <use xlink:href=\"#DejaVuSans-48\"/>\n       <use x=\"63.623047\" xlink:href=\"#DejaVuSans-46\"/>\n       <use x=\"95.410156\" xlink:href=\"#DejaVuSans-50\"/>\n      </g>\n     </g>\n    </g>\n    <g id=\"ytick_2\">\n     <g id=\"line2d_11\">\n      <g>\n       <use style=\"stroke:#000000;stroke-width:0.8;\" x=\"43.78125\" xlink:href=\"#m9241620bae\" y=\"167.819758\"/>\n      </g>\n     </g>\n     <g id=\"text_11\">\n      <!-- 0.4 -->\n      <g transform=\"translate(20.878125 171.618977)scale(0.1 -0.1)\">\n       <use xlink:href=\"#DejaVuSans-48\"/>\n       <use x=\"63.623047\" xlink:href=\"#DejaVuSans-46\"/>\n       <use x=\"95.410156\" xlink:href=\"#DejaVuSans-52\"/>\n      </g>\n     </g>\n    </g>\n    <g id=\"ytick_3\">\n     <g id=\"line2d_12\">\n      <g>\n       <use style=\"stroke:#000000;stroke-width:0.8;\" x=\"43.78125\" xlink:href=\"#m9241620bae\" y=\"137.87615\"/>\n      </g>\n     </g>\n     <g id=\"text_12\">\n      <!-- 0.6 -->\n      <g transform=\"translate(20.878125 141.675369)scale(0.1 -0.1)\">\n       <use xlink:href=\"#DejaVuSans-48\"/>\n       <use x=\"63.623047\" xlink:href=\"#DejaVuSans-46\"/>\n       <use x=\"95.410156\" xlink:href=\"#DejaVuSans-54\"/>\n      </g>\n     </g>\n    </g>\n    <g id=\"ytick_4\">\n     <g id=\"line2d_13\">\n      <g>\n       <use style=\"stroke:#000000;stroke-width:0.8;\" x=\"43.78125\" xlink:href=\"#m9241620bae\" y=\"107.932543\"/>\n      </g>\n     </g>\n     <g id=\"text_13\">\n      <!-- 0.8 -->\n      <g transform=\"translate(20.878125 111.731761)scale(0.1 -0.1)\">\n       <use xlink:href=\"#DejaVuSans-48\"/>\n       <use x=\"63.623047\" xlink:href=\"#DejaVuSans-46\"/>\n       <use x=\"95.410156\" xlink:href=\"#DejaVuSans-56\"/>\n      </g>\n     </g>\n    </g>\n    <g id=\"ytick_5\">\n     <g id=\"line2d_14\">\n      <g>\n       <use style=\"stroke:#000000;stroke-width:0.8;\" x=\"43.78125\" xlink:href=\"#m9241620bae\" y=\"77.988935\"/>\n      </g>\n     </g>\n     <g id=\"text_14\">\n      <!-- 1.0 -->\n      <g transform=\"translate(20.878125 81.788153)scale(0.1 -0.1)\">\n       <use xlink:href=\"#DejaVuSans-49\"/>\n       <use x=\"63.623047\" xlink:href=\"#DejaVuSans-46\"/>\n       <use x=\"95.410156\" xlink:href=\"#DejaVuSans-48\"/>\n      </g>\n     </g>\n    </g>\n    <g id=\"ytick_6\">\n     <g id=\"line2d_15\">\n      <g>\n       <use style=\"stroke:#000000;stroke-width:0.8;\" x=\"43.78125\" xlink:href=\"#m9241620bae\" y=\"48.045327\"/>\n      </g>\n     </g>\n     <g id=\"text_15\">\n      <!-- 1.2 -->\n      <g transform=\"translate(20.878125 51.844546)scale(0.1 -0.1)\">\n       <use xlink:href=\"#DejaVuSans-49\"/>\n       <use x=\"63.623047\" xlink:href=\"#DejaVuSans-46\"/>\n       <use x=\"95.410156\" xlink:href=\"#DejaVuSans-50\"/>\n      </g>\n     </g>\n    </g>\n    <g id=\"ytick_7\">\n     <g id=\"line2d_16\">\n      <g>\n       <use style=\"stroke:#000000;stroke-width:0.8;\" x=\"43.78125\" xlink:href=\"#m9241620bae\" y=\"18.101719\"/>\n      </g>\n     </g>\n     <g id=\"text_16\">\n      <!-- 1.4 -->\n      <g transform=\"translate(20.878125 21.900938)scale(0.1 -0.1)\">\n       <use xlink:href=\"#DejaVuSans-49\"/>\n       <use x=\"63.623047\" xlink:href=\"#DejaVuSans-46\"/>\n       <use x=\"95.410156\" xlink:href=\"#DejaVuSans-52\"/>\n      </g>\n     </g>\n    </g>\n    <g id=\"text_17\">\n     <!-- errors -->\n     <defs>\n      <path d=\"M 56.203125 29.59375 \nL 56.203125 25.203125 \nL 14.890625 25.203125 \nQ 15.484375 15.921875 20.484375 11.0625 \nQ 25.484375 6.203125 34.421875 6.203125 \nQ 39.59375 6.203125 44.453125 7.46875 \nQ 49.3125 8.734375 54.109375 11.28125 \nL 54.109375 2.78125 \nQ 49.265625 0.734375 44.1875 -0.34375 \nQ 39.109375 -1.421875 33.890625 -1.421875 \nQ 20.796875 -1.421875 13.15625 6.1875 \nQ 5.515625 13.8125 5.515625 26.8125 \nQ 5.515625 40.234375 12.765625 48.109375 \nQ 20.015625 56 32.328125 56 \nQ 43.359375 56 49.78125 48.890625 \nQ 56.203125 41.796875 56.203125 29.59375 \nz\nM 47.21875 32.234375 \nQ 47.125 39.59375 43.09375 43.984375 \nQ 39.0625 48.390625 32.421875 48.390625 \nQ 24.90625 48.390625 20.390625 44.140625 \nQ 15.875 39.890625 15.1875 32.171875 \nz\n\" id=\"DejaVuSans-101\"/>\n      <path d=\"M 41.109375 46.296875 \nQ 39.59375 47.171875 37.8125 47.578125 \nQ 36.03125 48 33.890625 48 \nQ 26.265625 48 22.1875 43.046875 \nQ 18.109375 38.09375 18.109375 28.8125 \nL 18.109375 0 \nL 9.078125 0 \nL 9.078125 54.6875 \nL 18.109375 54.6875 \nL 18.109375 46.1875 \nQ 20.953125 51.171875 25.484375 53.578125 \nQ 30.03125 56 36.53125 56 \nQ 37.453125 56 38.578125 55.875 \nQ 39.703125 55.765625 41.0625 55.515625 \nz\n\" id=\"DejaVuSans-114\"/>\n      <path d=\"M 30.609375 48.390625 \nQ 23.390625 48.390625 19.1875 42.75 \nQ 14.984375 37.109375 14.984375 27.296875 \nQ 14.984375 17.484375 19.15625 11.84375 \nQ 23.34375 6.203125 30.609375 6.203125 \nQ 37.796875 6.203125 41.984375 11.859375 \nQ 46.1875 17.53125 46.1875 27.296875 \nQ 46.1875 37.015625 41.984375 42.703125 \nQ 37.796875 48.390625 30.609375 48.390625 \nz\nM 30.609375 56 \nQ 42.328125 56 49.015625 48.375 \nQ 55.71875 40.765625 55.71875 27.296875 \nQ 55.71875 13.875 49.015625 6.21875 \nQ 42.328125 -1.421875 30.609375 -1.421875 \nQ 18.84375 -1.421875 12.171875 6.21875 \nQ 5.515625 13.875 5.515625 27.296875 \nQ 5.515625 40.765625 12.171875 48.375 \nQ 18.84375 56 30.609375 56 \nz\n\" id=\"DejaVuSans-111\"/>\n      <path d=\"M 44.28125 53.078125 \nL 44.28125 44.578125 \nQ 40.484375 46.53125 36.375 47.5 \nQ 32.28125 48.484375 27.875 48.484375 \nQ 21.1875 48.484375 17.84375 46.4375 \nQ 14.5 44.390625 14.5 40.28125 \nQ 14.5 37.15625 16.890625 35.375 \nQ 19.28125 33.59375 26.515625 31.984375 \nL 29.59375 31.296875 \nQ 39.15625 29.25 43.1875 25.515625 \nQ 47.21875 21.78125 47.21875 15.09375 \nQ 47.21875 7.46875 41.1875 3.015625 \nQ 35.15625 -1.421875 24.609375 -1.421875 \nQ 20.21875 -1.421875 15.453125 -0.5625 \nQ 10.6875 0.296875 5.421875 2 \nL 5.421875 11.28125 \nQ 10.40625 8.6875 15.234375 7.390625 \nQ 20.0625 6.109375 24.8125 6.109375 \nQ 31.15625 6.109375 34.5625 8.28125 \nQ 37.984375 10.453125 37.984375 14.40625 \nQ 37.984375 18.0625 35.515625 20.015625 \nQ 33.0625 21.96875 24.703125 23.78125 \nL 21.578125 24.515625 \nQ 13.234375 26.265625 9.515625 29.90625 \nQ 5.8125 33.546875 5.8125 39.890625 \nQ 5.8125 47.609375 11.28125 51.796875 \nQ 16.75 56 26.8125 56 \nQ 31.78125 56 36.171875 55.265625 \nQ 40.578125 54.546875 44.28125 53.078125 \nz\n\" id=\"DejaVuSans-115\"/>\n     </defs>\n     <g transform=\"translate(14.798438 130.627031)rotate(-90)scale(0.1 -0.1)\">\n      <use xlink:href=\"#DejaVuSans-101\"/>\n      <use x=\"61.523438\" xlink:href=\"#DejaVuSans-114\"/>\n      <use x=\"100.886719\" xlink:href=\"#DejaVuSans-114\"/>\n      <use x=\"139.75\" xlink:href=\"#DejaVuSans-111\"/>\n      <use x=\"200.931641\" xlink:href=\"#DejaVuSans-114\"/>\n      <use x=\"242.044922\" xlink:href=\"#DejaVuSans-115\"/>\n     </g>\n    </g>\n   </g>\n   <g id=\"line2d_17\">\n    <path clip-path=\"url(#pf586eb4c5c)\" d=\"M 58.999432 17.083636 \nL 62.852136 163.283302 \nL 66.70484 194.993582 \nL 70.557545 204.725255 \nL 74.410249 207.929221 \nL 78.262953 209.111994 \nL 82.115657 209.606063 \nL 85.968362 209.875556 \nL 89.821066 210.025274 \nL 93.67377 210.130076 \nL 97.526474 210.204935 \nL 101.379179 210.264822 \nL 105.231883 210.309738 \nL 109.084587 210.339681 \nL 112.937291 210.354653 \nL 116.789996 210.369625 \nL 120.6427 210.369625 \nL 124.495404 210.369625 \nL 128.348108 210.354653 \nL 132.200813 210.339681 \nL 136.053517 210.32471 \nL 139.906221 210.294766 \nL 143.758925 210.264822 \nL 147.61163 210.234879 \nL 151.464334 210.189963 \nL 155.317038 210.130076 \nL 159.169743 210.085161 \nL 163.022447 210.025274 \nL 166.875151 209.965386 \nL 170.727855 209.905499 \nL 174.58056 209.83064 \nL 178.433264 209.755781 \nL 182.285968 209.66595 \nL 186.138672 209.591091 \nL 189.991377 209.50126 \nL 193.844081 209.41143 \nL 197.696785 209.306627 \nL 201.549489 209.201824 \nL 205.402194 209.097022 \nL 209.254898 208.992219 \nL 213.107602 208.872445 \nL 216.960306 208.75267 \nL 220.813011 208.632896 \nL 224.665715 208.513121 \nL 228.518419 208.378375 \nL 232.371123 208.243629 \nL 236.223828 208.108883 \nL 240.076532 207.959165 \nL 243.929236 207.809447 \nL 247.78194 207.659729 \nL 251.634645 207.510011 \nL 255.487349 207.360292 \nL 259.340053 207.195603 \nL 263.192757 207.030913 \nL 267.045462 206.851251 \nL 270.898166 206.686561 \nL 274.75087 206.5069 \nL 278.603575 206.327238 \nL 282.456279 206.132605 \nL 286.308983 205.937971 \nL 290.161687 205.743338 \nL 294.014392 205.548704 \nL 297.867096 205.339099 \nL 301.7198 205.129494 \nL 305.572504 204.919888 \nL 309.425209 204.695311 \nL 313.277913 204.470734 \nL 317.130617 204.246157 \nL 320.983321 204.006608 \nL 324.836026 203.76706 \nL 328.68873 203.512539 \nL 332.541434 203.258018 \nL 336.394138 203.003498 \nL 340.246843 202.734005 \nL 344.099547 202.449541 \nL 347.952251 202.165077 \nL 351.804955 201.86564 \nL 355.65766 201.566204 \nL 359.510364 201.251796 \nL 363.363068 200.922417 \n\" style=\"fill:none;stroke:#1f77b4;stroke-linecap:square;stroke-width:1.5;\"/>\n   </g>\n   <g id=\"line2d_18\">\n    <path clip-path=\"url(#pf586eb4c5c)\" d=\"M 58.999432 56.339706 \nL 62.852136 178.419796 \nL 66.70484 202.659146 \nL 70.557545 210.234879 \nL 74.410249 212.765114 \nL 78.262953 213.663422 \nL 82.115657 214.037717 \nL 85.968362 214.23235 \nL 89.821066 214.337153 \nL 93.67377 214.426984 \nL 97.526474 214.486871 \nL 101.379179 214.546758 \nL 105.231883 214.591674 \nL 109.084587 214.621617 \nL 112.937291 214.651561 \nL 116.789996 214.681505 \nL 120.6427 214.711448 \nL 124.495404 214.72642 \nL 128.348108 214.741392 \nL 132.200813 214.756364 \nL 136.053517 214.756364 \nL 139.906221 214.756364 \nL 143.758925 214.756364 \nL 147.61163 214.756364 \nL 151.464334 214.756364 \nL 155.317038 214.741392 \nL 159.169743 214.72642 \nL 163.022447 214.711448 \nL 166.875151 214.696476 \nL 170.727855 214.666533 \nL 174.58056 214.636589 \nL 178.433264 214.606646 \nL 182.285968 214.576702 \nL 186.138672 214.546758 \nL 189.991377 214.501843 \nL 193.844081 214.456928 \nL 197.696785 214.412012 \nL 201.549489 214.367097 \nL 205.402194 214.30721 \nL 209.254898 214.262294 \nL 213.107602 214.202407 \nL 216.960306 214.127548 \nL 220.813011 214.067661 \nL 224.665715 214.007773 \nL 228.518419 213.932914 \nL 232.371123 213.858055 \nL 236.223828 213.783196 \nL 240.076532 213.708337 \nL 243.929236 213.633478 \nL 247.78194 213.543648 \nL 251.634645 213.468788 \nL 255.487349 213.378958 \nL 259.340053 213.289127 \nL 263.192757 213.214268 \nL 267.045462 213.124437 \nL 270.898166 213.034606 \nL 274.75087 212.944775 \nL 278.603575 212.839973 \nL 282.456279 212.73517 \nL 286.308983 212.645339 \nL 290.161687 212.540537 \nL 294.014392 212.435734 \nL 297.867096 212.330931 \nL 301.7198 212.211157 \nL 305.572504 212.106354 \nL 309.425209 211.98658 \nL 313.277913 211.881777 \nL 317.130617 211.762003 \nL 320.983321 211.627257 \nL 324.836026 211.507482 \nL 328.68873 211.387708 \nL 332.541434 211.252962 \nL 336.394138 211.118215 \nL 340.246843 210.968497 \nL 344.099547 210.833751 \nL 347.952251 210.684033 \nL 351.804955 210.534315 \nL 355.65766 210.384597 \nL 359.510364 210.219907 \nL 363.363068 210.070189 \n\" style=\"fill:none;stroke:#ff7f0e;stroke-linecap:square;stroke-width:1.5;\"/>\n   </g>\n   <g id=\"patch_3\">\n    <path d=\"M 43.78125 224.64 \nL 43.78125 7.2 \n\" style=\"fill:none;stroke:#000000;stroke-linecap:square;stroke-linejoin:miter;stroke-width:0.8;\"/>\n   </g>\n   <g id=\"patch_4\">\n    <path d=\"M 378.58125 224.64 \nL 378.58125 7.2 \n\" style=\"fill:none;stroke:#000000;stroke-linecap:square;stroke-linejoin:miter;stroke-width:0.8;\"/>\n   </g>\n   <g id=\"patch_5\">\n    <path d=\"M 43.78125 224.64 \nL 378.58125 224.64 \n\" style=\"fill:none;stroke:#000000;stroke-linecap:square;stroke-linejoin:miter;stroke-width:0.8;\"/>\n   </g>\n   <g id=\"patch_6\">\n    <path d=\"M 43.78125 7.2 \nL 378.58125 7.2 \n\" style=\"fill:none;stroke:#000000;stroke-linecap:square;stroke-linejoin:miter;stroke-width:0.8;\"/>\n   </g>\n  </g>\n </g>\n <defs>\n  <clipPath id=\"pf586eb4c5c\">\n   <rect height=\"217.44\" width=\"334.8\" x=\"43.78125\" y=\"7.2\"/>\n  </clipPath>\n </defs>\n</svg>\n",
      "image/png": "[encoded data removed]"
     },
     "metadata": {
      "needs_background": "light"
     }
    }
   ],
   "source": [
    "steps = np.arange(0, 0.8, 0.01)\n",
    "iterationList = []\n",
    "\n",
    "for alpha in steps:\n",
    "\n",
    "    pred_rating = gen_list(trainset, 100, alpha, 0.1)\n",
    "\n",
    "    error = accuray(pred_rating)\n",
    "    iterationList.append(error)\n",
    "    \n",
    "plt.plot(np.linspace(0, 0.8, 80), iterationList)\n",
    "plt.ylabel('errors')\n",
    "plt.show()"
   ]
  },
  {
   "source": [
    "From the graph we can know, the learning rate has the minimum error at approximate 0.1\n",
    "\n",
    "    alpha = 0.1"
   ],
   "cell_type": "markdown",
   "metadata": {}
  },
  {
   "cell_type": "code",
   "execution_count": 10,
   "metadata": {},
   "outputs": [
    {
     "output_type": "display_data",
     "data": {
      "text/plain": "<Figure size 432x288 with 1 Axes>",
      "image/svg+xml": "<?xml version=\"1.0\" encoding=\"utf-8\" standalone=\"no\"?>\n<!DOCTYPE svg PUBLIC \"-//W3C//DTD SVG 1.1//EN\"\n  \"http://www.w3.org/Graphics/SVG/1.1/DTD/svg11.dtd\">\n<!-- Created with matplotlib (https://matplotlib.org/) -->\n<svg height=\"248.518125pt\" version=\"1.1\" viewBox=\"0 0 385.78125 248.518125\" width=\"385.78125pt\" xmlns=\"http://www.w3.org/2000/svg\" xmlns:xlink=\"http://www.w3.org/1999/xlink\">\n <defs>\n  <style type=\"text/css\">\n*{stroke-linecap:butt;stroke-linejoin:round;}\n  </style>\n </defs>\n <g id=\"figure_1\">\n  <g id=\"patch_1\">\n   <path d=\"M 0 248.518125 \nL 385.78125 248.518125 \nL 385.78125 0 \nL 0 0 \nz\n\" style=\"fill:none;\"/>\n  </g>\n  <g id=\"axes_1\">\n   <g id=\"patch_2\">\n    <path d=\"M 43.78125 224.64 \nL 378.58125 224.64 \nL 378.58125 7.2 \nL 43.78125 7.2 \nz\n\" style=\"fill:#ffffff;\"/>\n   </g>\n   <g id=\"matplotlib.axis_1\">\n    <g id=\"xtick_1\">\n     <g id=\"line2d_1\">\n      <defs>\n       <path d=\"M 0 0 \nL 0 3.5 \n\" id=\"mb6c253358f\" style=\"stroke:#000000;stroke-width:0.8;\"/>\n      </defs>\n      <g>\n       <use style=\"stroke:#000000;stroke-width:0.8;\" x=\"58.999432\" xlink:href=\"#mb6c253358f\" y=\"224.64\"/>\n      </g>\n     </g>\n     <g id=\"text_1\">\n      <!-- −0.2 -->\n      <defs>\n       <path d=\"M 10.59375 35.5 \nL 73.1875 35.5 \nL 73.1875 27.203125 \nL 10.59375 27.203125 \nz\n\" id=\"DejaVuSans-8722\"/>\n       <path d=\"M 31.78125 66.40625 \nQ 24.171875 66.40625 20.328125 58.90625 \nQ 16.5 51.421875 16.5 36.375 \nQ 16.5 21.390625 20.328125 13.890625 \nQ 24.171875 6.390625 31.78125 6.390625 \nQ 39.453125 6.390625 43.28125 13.890625 \nQ 47.125 21.390625 47.125 36.375 \nQ 47.125 51.421875 43.28125 58.90625 \nQ 39.453125 66.40625 31.78125 66.40625 \nz\nM 31.78125 74.21875 \nQ 44.046875 74.21875 50.515625 64.515625 \nQ 56.984375 54.828125 56.984375 36.375 \nQ 56.984375 17.96875 50.515625 8.265625 \nQ 44.046875 -1.421875 31.78125 -1.421875 \nQ 19.53125 -1.421875 13.0625 8.265625 \nQ 6.59375 17.96875 6.59375 36.375 \nQ 6.59375 54.828125 13.0625 64.515625 \nQ 19.53125 74.21875 31.78125 74.21875 \nz\n\" id=\"DejaVuSans-48\"/>\n       <path d=\"M 10.6875 12.40625 \nL 21 12.40625 \nL 21 0 \nL 10.6875 0 \nz\n\" id=\"DejaVuSans-46\"/>\n       <path d=\"M 19.1875 8.296875 \nL 53.609375 8.296875 \nL 53.609375 0 \nL 7.328125 0 \nL 7.328125 8.296875 \nQ 12.9375 14.109375 22.625 23.890625 \nQ 32.328125 33.6875 34.8125 36.53125 \nQ 39.546875 41.84375 41.421875 45.53125 \nQ 43.3125 49.21875 43.3125 52.78125 \nQ 43.3125 58.59375 39.234375 62.25 \nQ 35.15625 65.921875 28.609375 65.921875 \nQ 23.96875 65.921875 18.8125 64.3125 \nQ 13.671875 62.703125 7.8125 59.421875 \nL 7.8125 69.390625 \nQ 13.765625 71.78125 18.9375 73 \nQ 24.125 74.21875 28.421875 74.21875 \nQ 39.75 74.21875 46.484375 68.546875 \nQ 53.21875 62.890625 53.21875 53.421875 \nQ 53.21875 48.921875 51.53125 44.890625 \nQ 49.859375 40.875 45.40625 35.40625 \nQ 44.1875 33.984375 37.640625 27.21875 \nQ 31.109375 20.453125 19.1875 8.296875 \nz\n\" id=\"DejaVuSans-50\"/>\n      </defs>\n      <g transform=\"translate(46.858026 239.238437)scale(0.1 -0.1)\">\n       <use xlink:href=\"#DejaVuSans-8722\"/>\n       <use x=\"83.789062\" xlink:href=\"#DejaVuSans-48\"/>\n       <use x=\"147.412109\" xlink:href=\"#DejaVuSans-46\"/>\n       <use x=\"179.199219\" xlink:href=\"#DejaVuSans-50\"/>\n      </g>\n     </g>\n    </g>\n    <g id=\"xtick_2\">\n     <g id=\"line2d_2\">\n      <g>\n       <use style=\"stroke:#000000;stroke-width:0.8;\" x=\"109.726705\" xlink:href=\"#mb6c253358f\" y=\"224.64\"/>\n      </g>\n     </g>\n     <g id=\"text_2\">\n      <!-- 0.0 -->\n      <g transform=\"translate(101.775142 239.238437)scale(0.1 -0.1)\">\n       <use xlink:href=\"#DejaVuSans-48\"/>\n       <use x=\"63.623047\" xlink:href=\"#DejaVuSans-46\"/>\n       <use x=\"95.410156\" xlink:href=\"#DejaVuSans-48\"/>\n      </g>\n     </g>\n    </g>\n    <g id=\"xtick_3\">\n     <g id=\"line2d_3\">\n      <g>\n       <use style=\"stroke:#000000;stroke-width:0.8;\" x=\"160.453977\" xlink:href=\"#mb6c253358f\" y=\"224.64\"/>\n      </g>\n     </g>\n     <g id=\"text_3\">\n      <!-- 0.2 -->\n      <g transform=\"translate(152.502415 239.238437)scale(0.1 -0.1)\">\n       <use xlink:href=\"#DejaVuSans-48\"/>\n       <use x=\"63.623047\" xlink:href=\"#DejaVuSans-46\"/>\n       <use x=\"95.410156\" xlink:href=\"#DejaVuSans-50\"/>\n      </g>\n     </g>\n    </g>\n    <g id=\"xtick_4\">\n     <g id=\"line2d_4\">\n      <g>\n       <use style=\"stroke:#000000;stroke-width:0.8;\" x=\"211.18125\" xlink:href=\"#mb6c253358f\" y=\"224.64\"/>\n      </g>\n     </g>\n     <g id=\"text_4\">\n      <!-- 0.4 -->\n      <defs>\n       <path d=\"M 37.796875 64.3125 \nL 12.890625 25.390625 \nL 37.796875 25.390625 \nz\nM 35.203125 72.90625 \nL 47.609375 72.90625 \nL 47.609375 25.390625 \nL 58.015625 25.390625 \nL 58.015625 17.1875 \nL 47.609375 17.1875 \nL 47.609375 0 \nL 37.796875 0 \nL 37.796875 17.1875 \nL 4.890625 17.1875 \nL 4.890625 26.703125 \nz\n\" id=\"DejaVuSans-52\"/>\n      </defs>\n      <g transform=\"translate(203.229688 239.238437)scale(0.1 -0.1)\">\n       <use xlink:href=\"#DejaVuSans-48\"/>\n       <use x=\"63.623047\" xlink:href=\"#DejaVuSans-46\"/>\n       <use x=\"95.410156\" xlink:href=\"#DejaVuSans-52\"/>\n      </g>\n     </g>\n    </g>\n    <g id=\"xtick_5\">\n     <g id=\"line2d_5\">\n      <g>\n       <use style=\"stroke:#000000;stroke-width:0.8;\" x=\"261.908523\" xlink:href=\"#mb6c253358f\" y=\"224.64\"/>\n      </g>\n     </g>\n     <g id=\"text_5\">\n      <!-- 0.6 -->\n      <defs>\n       <path d=\"M 33.015625 40.375 \nQ 26.375 40.375 22.484375 35.828125 \nQ 18.609375 31.296875 18.609375 23.390625 \nQ 18.609375 15.53125 22.484375 10.953125 \nQ 26.375 6.390625 33.015625 6.390625 \nQ 39.65625 6.390625 43.53125 10.953125 \nQ 47.40625 15.53125 47.40625 23.390625 \nQ 47.40625 31.296875 43.53125 35.828125 \nQ 39.65625 40.375 33.015625 40.375 \nz\nM 52.59375 71.296875 \nL 52.59375 62.3125 \nQ 48.875 64.0625 45.09375 64.984375 \nQ 41.3125 65.921875 37.59375 65.921875 \nQ 27.828125 65.921875 22.671875 59.328125 \nQ 17.53125 52.734375 16.796875 39.40625 \nQ 19.671875 43.65625 24.015625 45.921875 \nQ 28.375 48.1875 33.59375 48.1875 \nQ 44.578125 48.1875 50.953125 41.515625 \nQ 57.328125 34.859375 57.328125 23.390625 \nQ 57.328125 12.15625 50.6875 5.359375 \nQ 44.046875 -1.421875 33.015625 -1.421875 \nQ 20.359375 -1.421875 13.671875 8.265625 \nQ 6.984375 17.96875 6.984375 36.375 \nQ 6.984375 53.65625 15.1875 63.9375 \nQ 23.390625 74.21875 37.203125 74.21875 \nQ 40.921875 74.21875 44.703125 73.484375 \nQ 48.484375 72.75 52.59375 71.296875 \nz\n\" id=\"DejaVuSans-54\"/>\n      </defs>\n      <g transform=\"translate(253.95696 239.238437)scale(0.1 -0.1)\">\n       <use xlink:href=\"#DejaVuSans-48\"/>\n       <use x=\"63.623047\" xlink:href=\"#DejaVuSans-46\"/>\n       <use x=\"95.410156\" xlink:href=\"#DejaVuSans-54\"/>\n      </g>\n     </g>\n    </g>\n    <g id=\"xtick_6\">\n     <g id=\"line2d_6\">\n      <g>\n       <use style=\"stroke:#000000;stroke-width:0.8;\" x=\"312.635795\" xlink:href=\"#mb6c253358f\" y=\"224.64\"/>\n      </g>\n     </g>\n     <g id=\"text_6\">\n      <!-- 0.8 -->\n      <defs>\n       <path d=\"M 31.78125 34.625 \nQ 24.75 34.625 20.71875 30.859375 \nQ 16.703125 27.09375 16.703125 20.515625 \nQ 16.703125 13.921875 20.71875 10.15625 \nQ 24.75 6.390625 31.78125 6.390625 \nQ 38.8125 6.390625 42.859375 10.171875 \nQ 46.921875 13.96875 46.921875 20.515625 \nQ 46.921875 27.09375 42.890625 30.859375 \nQ 38.875 34.625 31.78125 34.625 \nz\nM 21.921875 38.8125 \nQ 15.578125 40.375 12.03125 44.71875 \nQ 8.5 49.078125 8.5 55.328125 \nQ 8.5 64.0625 14.71875 69.140625 \nQ 20.953125 74.21875 31.78125 74.21875 \nQ 42.671875 74.21875 48.875 69.140625 \nQ 55.078125 64.0625 55.078125 55.328125 \nQ 55.078125 49.078125 51.53125 44.71875 \nQ 48 40.375 41.703125 38.8125 \nQ 48.828125 37.15625 52.796875 32.3125 \nQ 56.78125 27.484375 56.78125 20.515625 \nQ 56.78125 9.90625 50.3125 4.234375 \nQ 43.84375 -1.421875 31.78125 -1.421875 \nQ 19.734375 -1.421875 13.25 4.234375 \nQ 6.78125 9.90625 6.78125 20.515625 \nQ 6.78125 27.484375 10.78125 32.3125 \nQ 14.796875 37.15625 21.921875 38.8125 \nz\nM 18.3125 54.390625 \nQ 18.3125 48.734375 21.84375 45.5625 \nQ 25.390625 42.390625 31.78125 42.390625 \nQ 38.140625 42.390625 41.71875 45.5625 \nQ 45.3125 48.734375 45.3125 54.390625 \nQ 45.3125 60.0625 41.71875 63.234375 \nQ 38.140625 66.40625 31.78125 66.40625 \nQ 25.390625 66.40625 21.84375 63.234375 \nQ 18.3125 60.0625 18.3125 54.390625 \nz\n\" id=\"DejaVuSans-56\"/>\n      </defs>\n      <g transform=\"translate(304.684233 239.238437)scale(0.1 -0.1)\">\n       <use xlink:href=\"#DejaVuSans-48\"/>\n       <use x=\"63.623047\" xlink:href=\"#DejaVuSans-46\"/>\n       <use x=\"95.410156\" xlink:href=\"#DejaVuSans-56\"/>\n      </g>\n     </g>\n    </g>\n    <g id=\"xtick_7\">\n     <g id=\"line2d_7\">\n      <g>\n       <use style=\"stroke:#000000;stroke-width:0.8;\" x=\"363.363068\" xlink:href=\"#mb6c253358f\" y=\"224.64\"/>\n      </g>\n     </g>\n     <g id=\"text_7\">\n      <!-- 1.0 -->\n      <defs>\n       <path d=\"M 12.40625 8.296875 \nL 28.515625 8.296875 \nL 28.515625 63.921875 \nL 10.984375 60.40625 \nL 10.984375 69.390625 \nL 28.421875 72.90625 \nL 38.28125 72.90625 \nL 38.28125 8.296875 \nL 54.390625 8.296875 \nL 54.390625 0 \nL 12.40625 0 \nz\n\" id=\"DejaVuSans-49\"/>\n      </defs>\n      <g transform=\"translate(355.411506 239.238437)scale(0.1 -0.1)\">\n       <use xlink:href=\"#DejaVuSans-49\"/>\n       <use x=\"63.623047\" xlink:href=\"#DejaVuSans-46\"/>\n       <use x=\"95.410156\" xlink:href=\"#DejaVuSans-48\"/>\n      </g>\n     </g>\n    </g>\n   </g>\n   <g id=\"matplotlib.axis_2\">\n    <g id=\"ytick_1\">\n     <g id=\"line2d_8\">\n      <defs>\n       <path d=\"M 0 0 \nL -3.5 0 \n\" id=\"me1d4f70973\" style=\"stroke:#000000;stroke-width:0.8;\"/>\n      </defs>\n      <g>\n       <use style=\"stroke:#000000;stroke-width:0.8;\" x=\"43.78125\" xlink:href=\"#me1d4f70973\" y=\"215.11271\"/>\n      </g>\n     </g>\n     <g id=\"text_8\">\n      <!-- 0.0 -->\n      <g transform=\"translate(20.878125 218.911929)scale(0.1 -0.1)\">\n       <use xlink:href=\"#DejaVuSans-48\"/>\n       <use x=\"63.623047\" xlink:href=\"#DejaVuSans-46\"/>\n       <use x=\"95.410156\" xlink:href=\"#DejaVuSans-48\"/>\n      </g>\n     </g>\n    </g>\n    <g id=\"ytick_2\">\n     <g id=\"line2d_9\">\n      <g>\n       <use style=\"stroke:#000000;stroke-width:0.8;\" x=\"43.78125\" xlink:href=\"#me1d4f70973\" y=\"179.478025\"/>\n      </g>\n     </g>\n     <g id=\"text_9\">\n      <!-- 0.5 -->\n      <defs>\n       <path d=\"M 10.796875 72.90625 \nL 49.515625 72.90625 \nL 49.515625 64.59375 \nL 19.828125 64.59375 \nL 19.828125 46.734375 \nQ 21.96875 47.46875 24.109375 47.828125 \nQ 26.265625 48.1875 28.421875 48.1875 \nQ 40.625 48.1875 47.75 41.5 \nQ 54.890625 34.8125 54.890625 23.390625 \nQ 54.890625 11.625 47.5625 5.09375 \nQ 40.234375 -1.421875 26.90625 -1.421875 \nQ 22.3125 -1.421875 17.546875 -0.640625 \nQ 12.796875 0.140625 7.71875 1.703125 \nL 7.71875 11.625 \nQ 12.109375 9.234375 16.796875 8.0625 \nQ 21.484375 6.890625 26.703125 6.890625 \nQ 35.15625 6.890625 40.078125 11.328125 \nQ 45.015625 15.765625 45.015625 23.390625 \nQ 45.015625 31 40.078125 35.4375 \nQ 35.15625 39.890625 26.703125 39.890625 \nQ 22.75 39.890625 18.8125 39.015625 \nQ 14.890625 38.140625 10.796875 36.28125 \nz\n\" id=\"DejaVuSans-53\"/>\n      </defs>\n      <g transform=\"translate(20.878125 183.277244)scale(0.1 -0.1)\">\n       <use xlink:href=\"#DejaVuSans-48\"/>\n       <use x=\"63.623047\" xlink:href=\"#DejaVuSans-46\"/>\n       <use x=\"95.410156\" xlink:href=\"#DejaVuSans-53\"/>\n      </g>\n     </g>\n    </g>\n    <g id=\"ytick_3\">\n     <g id=\"line2d_10\">\n      <g>\n       <use style=\"stroke:#000000;stroke-width:0.8;\" x=\"43.78125\" xlink:href=\"#me1d4f70973\" y=\"143.84334\"/>\n      </g>\n     </g>\n     <g id=\"text_10\">\n      <!-- 1.0 -->\n      <g transform=\"translate(20.878125 147.642558)scale(0.1 -0.1)\">\n       <use xlink:href=\"#DejaVuSans-49\"/>\n       <use x=\"63.623047\" xlink:href=\"#DejaVuSans-46\"/>\n       <use x=\"95.410156\" xlink:href=\"#DejaVuSans-48\"/>\n      </g>\n     </g>\n    </g>\n    <g id=\"ytick_4\">\n     <g id=\"line2d_11\">\n      <g>\n       <use style=\"stroke:#000000;stroke-width:0.8;\" x=\"43.78125\" xlink:href=\"#me1d4f70973\" y=\"108.208654\"/>\n      </g>\n     </g>\n     <g id=\"text_11\">\n      <!-- 1.5 -->\n      <g transform=\"translate(20.878125 112.007873)scale(0.1 -0.1)\">\n       <use xlink:href=\"#DejaVuSans-49\"/>\n       <use x=\"63.623047\" xlink:href=\"#DejaVuSans-46\"/>\n       <use x=\"95.410156\" xlink:href=\"#DejaVuSans-53\"/>\n      </g>\n     </g>\n    </g>\n    <g id=\"ytick_5\">\n     <g id=\"line2d_12\">\n      <g>\n       <use style=\"stroke:#000000;stroke-width:0.8;\" x=\"43.78125\" xlink:href=\"#me1d4f70973\" y=\"72.573969\"/>\n      </g>\n     </g>\n     <g id=\"text_12\">\n      <!-- 2.0 -->\n      <g transform=\"translate(20.878125 76.373187)scale(0.1 -0.1)\">\n       <use xlink:href=\"#DejaVuSans-50\"/>\n       <use x=\"63.623047\" xlink:href=\"#DejaVuSans-46\"/>\n       <use x=\"95.410156\" xlink:href=\"#DejaVuSans-48\"/>\n      </g>\n     </g>\n    </g>\n    <g id=\"ytick_6\">\n     <g id=\"line2d_13\">\n      <g>\n       <use style=\"stroke:#000000;stroke-width:0.8;\" x=\"43.78125\" xlink:href=\"#me1d4f70973\" y=\"36.939283\"/>\n      </g>\n     </g>\n     <g id=\"text_13\">\n      <!-- 2.5 -->\n      <g transform=\"translate(20.878125 40.738502)scale(0.1 -0.1)\">\n       <use xlink:href=\"#DejaVuSans-50\"/>\n       <use x=\"63.623047\" xlink:href=\"#DejaVuSans-46\"/>\n       <use x=\"95.410156\" xlink:href=\"#DejaVuSans-53\"/>\n      </g>\n     </g>\n    </g>\n    <g id=\"text_14\">\n     <!-- errors -->\n     <defs>\n      <path d=\"M 56.203125 29.59375 \nL 56.203125 25.203125 \nL 14.890625 25.203125 \nQ 15.484375 15.921875 20.484375 11.0625 \nQ 25.484375 6.203125 34.421875 6.203125 \nQ 39.59375 6.203125 44.453125 7.46875 \nQ 49.3125 8.734375 54.109375 11.28125 \nL 54.109375 2.78125 \nQ 49.265625 0.734375 44.1875 -0.34375 \nQ 39.109375 -1.421875 33.890625 -1.421875 \nQ 20.796875 -1.421875 13.15625 6.1875 \nQ 5.515625 13.8125 5.515625 26.8125 \nQ 5.515625 40.234375 12.765625 48.109375 \nQ 20.015625 56 32.328125 56 \nQ 43.359375 56 49.78125 48.890625 \nQ 56.203125 41.796875 56.203125 29.59375 \nz\nM 47.21875 32.234375 \nQ 47.125 39.59375 43.09375 43.984375 \nQ 39.0625 48.390625 32.421875 48.390625 \nQ 24.90625 48.390625 20.390625 44.140625 \nQ 15.875 39.890625 15.1875 32.171875 \nz\n\" id=\"DejaVuSans-101\"/>\n      <path d=\"M 41.109375 46.296875 \nQ 39.59375 47.171875 37.8125 47.578125 \nQ 36.03125 48 33.890625 48 \nQ 26.265625 48 22.1875 43.046875 \nQ 18.109375 38.09375 18.109375 28.8125 \nL 18.109375 0 \nL 9.078125 0 \nL 9.078125 54.6875 \nL 18.109375 54.6875 \nL 18.109375 46.1875 \nQ 20.953125 51.171875 25.484375 53.578125 \nQ 30.03125 56 36.53125 56 \nQ 37.453125 56 38.578125 55.875 \nQ 39.703125 55.765625 41.0625 55.515625 \nz\n\" id=\"DejaVuSans-114\"/>\n      <path d=\"M 30.609375 48.390625 \nQ 23.390625 48.390625 19.1875 42.75 \nQ 14.984375 37.109375 14.984375 27.296875 \nQ 14.984375 17.484375 19.15625 11.84375 \nQ 23.34375 6.203125 30.609375 6.203125 \nQ 37.796875 6.203125 41.984375 11.859375 \nQ 46.1875 17.53125 46.1875 27.296875 \nQ 46.1875 37.015625 41.984375 42.703125 \nQ 37.796875 48.390625 30.609375 48.390625 \nz\nM 30.609375 56 \nQ 42.328125 56 49.015625 48.375 \nQ 55.71875 40.765625 55.71875 27.296875 \nQ 55.71875 13.875 49.015625 6.21875 \nQ 42.328125 -1.421875 30.609375 -1.421875 \nQ 18.84375 -1.421875 12.171875 6.21875 \nQ 5.515625 13.875 5.515625 27.296875 \nQ 5.515625 40.765625 12.171875 48.375 \nQ 18.84375 56 30.609375 56 \nz\n\" id=\"DejaVuSans-111\"/>\n      <path d=\"M 44.28125 53.078125 \nL 44.28125 44.578125 \nQ 40.484375 46.53125 36.375 47.5 \nQ 32.28125 48.484375 27.875 48.484375 \nQ 21.1875 48.484375 17.84375 46.4375 \nQ 14.5 44.390625 14.5 40.28125 \nQ 14.5 37.15625 16.890625 35.375 \nQ 19.28125 33.59375 26.515625 31.984375 \nL 29.59375 31.296875 \nQ 39.15625 29.25 43.1875 25.515625 \nQ 47.21875 21.78125 47.21875 15.09375 \nQ 47.21875 7.46875 41.1875 3.015625 \nQ 35.15625 -1.421875 24.609375 -1.421875 \nQ 20.21875 -1.421875 15.453125 -0.5625 \nQ 10.6875 0.296875 5.421875 2 \nL 5.421875 11.28125 \nQ 10.40625 8.6875 15.234375 7.390625 \nQ 20.0625 6.109375 24.8125 6.109375 \nQ 31.15625 6.109375 34.5625 8.28125 \nQ 37.984375 10.453125 37.984375 14.40625 \nQ 37.984375 18.0625 35.515625 20.015625 \nQ 33.0625 21.96875 24.703125 23.78125 \nL 21.578125 24.515625 \nQ 13.234375 26.265625 9.515625 29.90625 \nQ 5.8125 33.546875 5.8125 39.890625 \nQ 5.8125 47.609375 11.28125 51.796875 \nQ 16.75 56 26.8125 56 \nQ 31.78125 56 36.171875 55.265625 \nQ 40.578125 54.546875 44.28125 53.078125 \nz\n\" id=\"DejaVuSans-115\"/>\n     </defs>\n     <g transform=\"translate(14.798438 130.627031)rotate(-90)scale(0.1 -0.1)\">\n      <use xlink:href=\"#DejaVuSans-101\"/>\n      <use x=\"61.523438\" xlink:href=\"#DejaVuSans-114\"/>\n      <use x=\"100.886719\" xlink:href=\"#DejaVuSans-114\"/>\n      <use x=\"139.75\" xlink:href=\"#DejaVuSans-111\"/>\n      <use x=\"200.931641\" xlink:href=\"#DejaVuSans-114\"/>\n      <use x=\"242.044922\" xlink:href=\"#DejaVuSans-115\"/>\n     </g>\n    </g>\n   </g>\n   <g id=\"line2d_14\">\n    <path clip-path=\"url(#pa6d113892b)\" d=\"M 58.999432 17.083636 \nL 61.557109 64.121421 \nL 64.114787 99.563679 \nL 66.672465 126.303947 \nL 69.230142 146.508814 \nL 71.78782 161.810348 \nL 74.345498 173.413002 \nL 76.903175 182.250404 \nL 79.460853 189.00674 \nL 82.01853 194.209404 \nL 84.576208 198.250377 \nL 87.133886 201.436118 \nL 89.691563 203.987562 \nL 92.249241 206.075754 \nL 94.806918 207.8076 \nL 97.364596 209.268622 \nL 99.922274 210.522963 \nL 102.479951 211.57775 \nL 105.037629 212.432982 \nL 107.595307 212.99601 \nL 110.152984 213.145676 \nL 112.710662 212.874852 \nL 115.268339 212.340332 \nL 117.826017 211.691781 \nL 120.383695 210.993341 \nL 122.941372 210.280647 \nL 125.49905 209.567953 \nL 128.056727 208.862387 \nL 130.614405 208.15682 \nL 133.172083 207.465507 \nL 135.72976 206.781321 \nL 138.287438 206.111389 \nL 140.845116 205.448584 \nL 143.402793 204.800033 \nL 145.960471 204.158608 \nL 148.518148 203.524311 \nL 151.075826 202.89714 \nL 153.633504 202.284224 \nL 156.191181 201.678434 \nL 158.748859 201.079771 \nL 161.306536 200.495363 \nL 163.864214 199.918081 \nL 166.421892 199.340799 \nL 168.979569 198.777771 \nL 171.537247 198.22187 \nL 174.094925 197.680222 \nL 176.652602 197.138575 \nL 179.21028 196.604055 \nL 181.767957 196.076662 \nL 184.325635 195.563522 \nL 186.883313 195.050383 \nL 189.44099 194.54437 \nL 191.998668 194.045484 \nL 194.556345 193.553726 \nL 197.114023 193.069094 \nL 199.671701 192.591589 \nL 202.229378 192.121211 \nL 204.787056 191.650834 \nL 207.344734 191.19471 \nL 209.902411 190.738586 \nL 212.460089 190.289589 \nL 215.017766 189.840592 \nL 217.575444 189.405848 \nL 220.133122 188.971105 \nL 222.690799 188.543489 \nL 225.248477 188.123 \nL 227.806155 187.70251 \nL 230.363832 187.296275 \nL 232.92151 186.882913 \nL 235.479187 186.483804 \nL 238.036865 186.084696 \nL 240.594543 185.692714 \nL 243.15222 185.30786 \nL 245.709898 184.923005 \nL 248.267575 184.53815 \nL 250.825253 184.16755 \nL 253.382931 183.796949 \nL 255.940608 183.426348 \nL 258.498286 183.062874 \nL 261.055964 182.706528 \nL 263.613641 182.350181 \nL 266.171319 182.000961 \nL 268.728996 181.651741 \nL 271.286674 181.309648 \nL 273.844352 180.974682 \nL 276.402029 180.632589 \nL 278.959707 180.30475 \nL 281.517384 179.976911 \nL 284.075062 179.649072 \nL 286.63274 179.328359 \nL 289.190417 179.007647 \nL 291.748095 178.694062 \nL 294.305773 178.380477 \nL 296.86345 178.074018 \nL 299.421128 177.76756 \nL 301.978805 177.468229 \nL 304.536483 177.168897 \nL 307.094161 176.869566 \nL 309.651838 176.577362 \nL 312.209516 176.285157 \nL 314.767193 176.00008 \nL 317.324871 175.715002 \nL 319.882549 175.429925 \nL 322.440226 175.151974 \nL 324.997904 174.874024 \nL 327.555582 174.6032 \nL 330.113259 174.332376 \nL 332.670937 174.061553 \nL 335.228614 173.797856 \nL 337.786292 173.534159 \nL 340.34397 173.270463 \nL 342.901647 173.013893 \nL 345.459325 172.757323 \nL 348.017002 172.507881 \nL 350.57468 172.251311 \nL 353.132358 172.001868 \nL 355.690035 171.759552 \nL 358.247713 171.510109 \nL 360.805391 171.267793 \nL 363.363068 171.032605 \n\" style=\"fill:none;stroke:#1f77b4;stroke-linecap:square;stroke-width:1.5;\"/>\n   </g>\n   <g id=\"line2d_15\">\n    <path clip-path=\"url(#pa6d113892b)\" d=\"M 58.999432 85.616263 \nL 61.557109 115.428241 \nL 64.114787 138.056267 \nL 66.672465 155.26782 \nL 69.230142 168.395638 \nL 71.78782 178.437492 \nL 74.345498 186.12033 \nL 76.903175 192.014307 \nL 79.460853 196.56842 \nL 82.01853 200.146143 \nL 84.576208 202.975537 \nL 87.133886 205.234776 \nL 89.691563 207.073525 \nL 92.249241 208.577309 \nL 94.806918 209.83165 \nL 97.364596 210.914945 \nL 99.922274 211.862827 \nL 102.479951 212.71806 \nL 105.037629 213.487769 \nL 107.595307 214.179082 \nL 110.152984 214.756364 \nL 112.710662 214.107812 \nL 115.268339 213.473515 \nL 117.826017 212.846344 \nL 120.383695 212.240555 \nL 122.941372 211.641892 \nL 125.49905 211.057483 \nL 128.056727 210.487328 \nL 130.614405 209.917173 \nL 133.172083 209.368399 \nL 135.72976 208.819625 \nL 138.287438 208.285105 \nL 140.845116 207.757711 \nL 143.402793 207.237445 \nL 145.960471 206.724306 \nL 148.518148 206.218293 \nL 151.075826 205.71228 \nL 153.633504 205.220522 \nL 156.191181 204.728763 \nL 158.748859 204.244131 \nL 161.306536 203.766627 \nL 163.864214 203.296249 \nL 166.421892 202.832998 \nL 168.979569 202.376874 \nL 171.537247 201.927877 \nL 174.094925 201.47888 \nL 176.652602 201.044137 \nL 179.21028 200.609394 \nL 181.767957 200.181777 \nL 184.325635 199.754161 \nL 186.883313 199.340799 \nL 189.44099 198.927436 \nL 191.998668 198.521201 \nL 194.556345 198.114966 \nL 197.114023 197.715857 \nL 199.671701 197.323876 \nL 202.229378 196.939021 \nL 204.787056 196.554166 \nL 207.344734 196.176439 \nL 209.902411 195.798711 \nL 212.460089 195.42811 \nL 215.017766 195.064636 \nL 217.575444 194.701163 \nL 220.133122 194.344816 \nL 222.690799 193.995596 \nL 225.248477 193.646376 \nL 227.806155 193.304283 \nL 230.363832 192.96219 \nL 232.92151 192.627224 \nL 235.479187 192.292258 \nL 238.036865 191.964419 \nL 240.594543 191.643707 \nL 243.15222 191.315868 \nL 245.709898 191.002282 \nL 248.267575 190.688697 \nL 250.825253 190.375112 \nL 253.382931 190.068654 \nL 255.940608 189.769322 \nL 258.498286 189.469991 \nL 261.055964 189.170659 \nL 263.613641 188.878455 \nL 266.171319 188.586251 \nL 268.728996 188.301173 \nL 271.286674 188.016096 \nL 273.844352 187.738145 \nL 276.402029 187.460195 \nL 278.959707 187.182244 \nL 281.517384 186.91142 \nL 284.075062 186.640597 \nL 286.63274 186.3769 \nL 289.190417 186.113203 \nL 291.748095 185.849507 \nL 294.305773 185.592937 \nL 296.86345 185.336367 \nL 299.421128 185.079798 \nL 301.978805 184.830355 \nL 304.536483 184.580912 \nL 307.094161 184.338596 \nL 309.651838 184.09628 \nL 312.209516 183.853964 \nL 314.767193 183.618775 \nL 317.324871 183.37646 \nL 319.882549 183.148398 \nL 322.440226 182.913209 \nL 324.997904 182.685147 \nL 327.555582 182.457085 \nL 330.113259 182.229023 \nL 332.670937 182.008088 \nL 335.228614 181.787153 \nL 337.786292 181.573345 \nL 340.34397 181.352409 \nL 342.901647 181.138601 \nL 345.459325 180.924793 \nL 348.017002 180.718112 \nL 350.57468 180.504304 \nL 353.132358 180.297623 \nL 355.690035 180.098069 \nL 358.247713 179.891387 \nL 360.805391 179.691833 \nL 363.363068 179.492279 \n\" style=\"fill:none;stroke:#ff7f0e;stroke-linecap:square;stroke-width:1.5;\"/>\n   </g>\n   <g id=\"patch_3\">\n    <path d=\"M 43.78125 224.64 \nL 43.78125 7.2 \n\" style=\"fill:none;stroke:#000000;stroke-linecap:square;stroke-linejoin:miter;stroke-width:0.8;\"/>\n   </g>\n   <g id=\"patch_4\">\n    <path d=\"M 378.58125 224.64 \nL 378.58125 7.2 \n\" style=\"fill:none;stroke:#000000;stroke-linecap:square;stroke-linejoin:miter;stroke-width:0.8;\"/>\n   </g>\n   <g id=\"patch_5\">\n    <path d=\"M 43.78125 224.64 \nL 378.58125 224.64 \n\" style=\"fill:none;stroke:#000000;stroke-linecap:square;stroke-linejoin:miter;stroke-width:0.8;\"/>\n   </g>\n   <g id=\"patch_6\">\n    <path d=\"M 43.78125 7.2 \nL 378.58125 7.2 \n\" style=\"fill:none;stroke:#000000;stroke-linecap:square;stroke-linejoin:miter;stroke-width:0.8;\"/>\n   </g>\n  </g>\n </g>\n <defs>\n  <clipPath id=\"pa6d113892b\">\n   <rect height=\"217.44\" width=\"334.8\" x=\"43.78125\" y=\"7.2\"/>\n  </clipPath>\n </defs>\n</svg>\n",
      "image/png": "[encoded data removed]"
     },
     "metadata": {
      "needs_background": "light"
     }
    }
   ],
   "source": [
    "steps = np.arange(-0.2, 1, 0.01)\n",
    "iterationList = []\n",
    "\n",
    "for reg in steps:\n",
    "\n",
    "    pred_rating = gen_list(trainset, 100, 0.1, reg)\n",
    "\n",
    "    error = accuray(pred_rating)\n",
    "    iterationList.append(error)\n",
    "    \n",
    "plt.plot(np.linspace(-0.2, 1, 120), iterationList)\n",
    "plt.ylabel('errors')\n",
    "plt.show()"
   ]
  },
  {
   "source": [
    "From the graph we can know, the regression rate has the minimum error at approximate 0.0\n",
    "\n",
    "    reg = 0.0"
   ],
   "cell_type": "markdown",
   "metadata": {}
  },
  {
   "cell_type": "code",
   "execution_count": 11,
   "metadata": {},
   "outputs": [
    {
     "output_type": "stream",
     "name": "stdout",
     "text": [
      "(0.0222, 0.0044)\n"
     ]
    }
   ],
   "source": [
    "#dataSet = trainset\n",
    "\n",
    "bcf = BaselineCFBySGD(trainset, 100, 0.1, 0.0, [\"UserId\", \"ProductId\", \"Rating\"])\n",
    "\n",
    "pred_rating =[]\n",
    "for uid, iid, real_rating, _ in dataset.itertuples(index=False):\n",
    "    pred_rating_result = (uid, iid, real_rating, bcf.predict(uid, iid))\n",
    "    pred_rating.append(pred_rating_result)\n",
    "\n",
    "error = accuray(pred_rating)\n",
    "print(error)"
   ]
  },
  {
   "source": [
    "_20, 0.1, 0.1 : (0.2061, 0.1527)\n",
    "\n",
    "_20, 0.1, 0.0 : (0.1417, 0.0962)\n",
    "\n",
    "100, 0.0, 0.0 : (1.3904, 1.1334)\n",
    "\n",
    "100, 0.1, 0.0 : (0.0222, 0.0044)\n",
    "\n",
    "100, 0.1, 0.1 : (0.1158, 0.0873)"
   ],
   "cell_type": "markdown",
   "metadata": {}
  },
  {
   "cell_type": "code",
   "execution_count": 20,
   "metadata": {},
   "outputs": [
    {
     "output_type": "stream",
     "name": "stdout",
     "text": [
      "(2023070, 4)\n"
     ]
    }
   ],
   "source": [
    "print(dataset.shape)\n"
   ]
  },
  {
   "cell_type": "code",
   "execution_count": null,
   "metadata": {},
   "outputs": [],
   "source": [
    "pred_rating =[]\n",
    "for uid, iid, real_rating, _ in testset.itertuples(index=False):\n",
    "    pred_rating_result = (uid, iid, real_rating, bcf.predict(uid, iid))\n",
    "    pred_rating.append(pred_rating_result)\n",
    "\n",
    "error = accuray(pred_rating)\n",
    "print(error)"
   ]
  }
 ],
 "metadata": {
  "kernelspec": {
   "name": "python3",
   "display_name": "Python 3"
  },
  "language_info": {
   "codemirror_mode": {
    "name": "ipython",
    "version": 2
   },
   "file_extension": ".py",
   "mimetype": "text/x-python",
   "name": "python",
   "nbconvert_exporter": "python",
   "pygments_lexer": "ipython2",
   "version": "3.8.3-final"
  }
 },
 "nbformat": 4,
 "nbformat_minor": 2
}